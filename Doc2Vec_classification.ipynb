{
 "cells": [
  {
   "cell_type": "code",
   "execution_count": 1,
   "metadata": {},
   "outputs": [],
   "source": [
    "import pandas as pd\n",
    "import numpy as np\n",
    "from sklearn.neighbors import KNeighborsClassifier\n",
    "from sklearn.model_selection import train_test_split\n",
    "from sklearn.model_selection import RandomizedSearchCV\n",
    "from sklearn.metrics import f1_score, make_scorer\n",
    "from sklearn.metrics import classification_report, confusion_matrix, recall_score, precision_score\n",
    "from sklearn.metrics import accuracy_score, roc_auc_score"
   ]
  },
  {
   "cell_type": "markdown",
   "metadata": {},
   "source": [
    "## Подготовка данных"
   ]
  },
  {
   "cell_type": "code",
   "execution_count": 2,
   "metadata": {},
   "outputs": [],
   "source": [
    "df = pd.read_csv('Doc2Vec.csv')"
   ]
  },
  {
   "cell_type": "code",
   "execution_count": null,
   "metadata": {},
   "outputs": [],
   "source": []
  },
  {
   "cell_type": "code",
   "execution_count": 3,
   "metadata": {},
   "outputs": [],
   "source": [
    "X, y = df.iloc[:, 5:], df['tag']"
   ]
  },
  {
   "cell_type": "code",
   "execution_count": 4,
   "metadata": {},
   "outputs": [],
   "source": [
    "X_train, X_test, y_train, y_test = train_test_split(X, y, test_size=0.3)"
   ]
  },
  {
   "cell_type": "markdown",
   "metadata": {},
   "source": [
    "## KNN"
   ]
  },
  {
   "cell_type": "code",
   "execution_count": 6,
   "metadata": {},
   "outputs": [
    {
     "name": "stderr",
     "output_type": "stream",
     "text": [
      "C:\\Users\\Home-PC\\anaconda3\\lib\\site-packages\\sklearn\\model_selection\\_search.py:278: UserWarning: The total space of parameters 23 is smaller than n_iter=50. Running 23 iterations. For exhaustive searches, use GridSearchCV.\n",
      "  warnings.warn(\n",
      "C:\\Users\\Home-PC\\anaconda3\\lib\\site-packages\\sklearn\\model_selection\\_split.py:670: UserWarning: The least populated class in y has only 3 members, which is less than n_splits=5.\n",
      "  warnings.warn((\"The least populated class in y has only %d\"\n",
      "[Parallel(n_jobs=-1)]: Using backend LokyBackend with 4 concurrent workers.\n"
     ]
    },
    {
     "name": "stdout",
     "output_type": "stream",
     "text": [
      "Fitting 5 folds for each of 23 candidates, totalling 115 fits\n"
     ]
    },
    {
     "name": "stderr",
     "output_type": "stream",
     "text": [
      "[Parallel(n_jobs=-1)]: Done  24 tasks      | elapsed:   16.3s\n",
      "[Parallel(n_jobs=-1)]: Done 115 out of 115 | elapsed:  1.1min finished\n"
     ]
    }
   ],
   "source": [
    "knn_params = {'n_neighbors': range(10, 100, 4)}\n",
    "f1 = make_scorer(f1_score, average='weighted')  # for scoring param\n",
    "rand_knn = RandomizedSearchCV(estimator=KNeighborsClassifier(),\n",
    "                              param_distributions=knn_params,\n",
    "                              cv=5,\n",
    "                              verbose=3,\n",
    "                              n_iter = 50,\n",
    "                              n_jobs=-1,\n",
    "                              scoring=f1)\n",
    "rand_knn.fit(X_train, y_train)\n",
    "y_pred = rand_knn.predict(X_test)\n",
    "y_prob = rand_knn.predict_proba(X_test)"
   ]
  },
  {
   "cell_type": "code",
   "execution_count": 7,
   "metadata": {},
   "outputs": [
    {
     "data": {
      "text/plain": [
       "KNeighborsClassifier(n_neighbors=50)"
      ]
     },
     "execution_count": 7,
     "metadata": {},
     "output_type": "execute_result"
    }
   ],
   "source": [
    "rand_knn.best_estimator_"
   ]
  },
  {
   "cell_type": "code",
   "execution_count": 8,
   "metadata": {},
   "outputs": [
    {
     "name": "stdout",
     "output_type": "stream",
     "text": [
      "Accuracy: 0.7276368491321762\n",
      "Recall: 0.7276368491321762\n",
      "Precision: 0.7429746225629787\n",
      "F1: 0.6920019149888185\n",
      "ROC AUC: 0.8466001140134386\n",
      "Confusion matrix:\n",
      " [[838 117   0   1   0]\n",
      " [131 241   0   0   0]\n",
      " [ 48  28   5   0   0]\n",
      " [ 74   3   0   6   0]\n",
      " [  5   1   0   0   0]]\n",
      "              precision    recall  f1-score   support\n",
      "\n",
      "           0       0.76      0.88      0.82       956\n",
      "           1       0.62      0.65      0.63       372\n",
      "           2       1.00      0.06      0.12        81\n",
      "           3       0.86      0.07      0.13        83\n",
      "           4       0.00      0.00      0.00         6\n",
      "\n",
      "    accuracy                           0.73      1498\n",
      "   macro avg       0.65      0.33      0.34      1498\n",
      "weighted avg       0.74      0.73      0.69      1498\n",
      "\n"
     ]
    },
    {
     "name": "stderr",
     "output_type": "stream",
     "text": [
      "C:\\Users\\Home-PC\\anaconda3\\lib\\site-packages\\sklearn\\metrics\\_classification.py:1221: UndefinedMetricWarning: Precision is ill-defined and being set to 0.0 in labels with no predicted samples. Use `zero_division` parameter to control this behavior.\n",
      "  _warn_prf(average, modifier, msg_start, len(result))\n",
      "C:\\Users\\Home-PC\\anaconda3\\lib\\site-packages\\sklearn\\metrics\\_classification.py:1221: UndefinedMetricWarning: Precision and F-score are ill-defined and being set to 0.0 in labels with no predicted samples. Use `zero_division` parameter to control this behavior.\n",
      "  _warn_prf(average, modifier, msg_start, len(result))\n"
     ]
    }
   ],
   "source": [
    "print(\"Accuracy:\", accuracy_score(y_test, y_pred))\n",
    "print(\"Recall:\", recall_score(y_test, y_pred, average = 'weighted'))\n",
    "print(\"Precision:\", precision_score(y_test, y_pred, average = 'weighted'))\n",
    "print(\"F1:\", f1_score(y_test, y_pred, average='weighted'))\n",
    "print(\"ROC AUC:\", roc_auc_score(y_test, y_prob, average = 'weighted', multi_class='ovo'))\n",
    "print(\"Confusion matrix:\\n\", confusion_matrix(y_test, y_pred))\n",
    "print(classification_report(y_test, y_pred))"
   ]
  },
  {
   "cell_type": "code",
   "execution_count": 9,
   "metadata": {},
   "outputs": [],
   "source": [
    "from sklearn.ensemble import AdaBoostClassifier\n",
    "from sklearn.tree import DecisionTreeClassifier"
   ]
  },
  {
   "cell_type": "code",
   "execution_count": 15,
   "metadata": {},
   "outputs": [
    {
     "name": "stdout",
     "output_type": "stream",
     "text": [
      "Fitting 5 folds for each of 50 candidates, totalling 250 fits\n"
     ]
    },
    {
     "name": "stderr",
     "output_type": "stream",
     "text": [
      "C:\\Users\\Home-PC\\anaconda3\\lib\\site-packages\\sklearn\\model_selection\\_split.py:670: UserWarning: The least populated class in y has only 3 members, which is less than n_splits=5.\n",
      "  warnings.warn((\"The least populated class in y has only %d\"\n",
      "[Parallel(n_jobs=-1)]: Using backend LokyBackend with 4 concurrent workers.\n",
      "[Parallel(n_jobs=-1)]: Done  24 tasks      | elapsed:  1.8min\n",
      "[Parallel(n_jobs=-1)]: Done 120 tasks      | elapsed:  7.6min\n",
      "[Parallel(n_jobs=-1)]: Done 250 out of 250 | elapsed: 15.3min finished\n"
     ]
    }
   ],
   "source": [
    "ada_params = {\n",
    "    'n_estimators': range(10, 200, 10),\n",
    "    'learning_rate': [0.1, 0.25,0.5,0.75, 1]\n",
    "}\n",
    "\n",
    "rand_AdaBoost = RandomizedSearchCV(estimator=AdaBoostClassifier(),\n",
    "                                   param_distributions=ada_params,\n",
    "                                   cv=5,\n",
    "                                   n_iter=50,\n",
    "                                   verbose=3,\n",
    "                                   scoring=f1,\n",
    "                                   n_jobs=-1)\n",
    "\n",
    "rand_AdaBoost.fit(X_train, y_train)\n",
    "y_pred = rand_AdaBoost.predict(X_test)\n",
    "y_prob = rand_AdaBoost.predict_proba(X_test)"
   ]
  },
  {
   "cell_type": "code",
   "execution_count": 16,
   "metadata": {},
   "outputs": [],
   "source": [
    "y_pred = rand_AdaBoost.predict(X_test)\n",
    "y_prob = rand_AdaBoost.predict_proba(X_test)"
   ]
  },
  {
   "cell_type": "code",
   "execution_count": 17,
   "metadata": {},
   "outputs": [
    {
     "data": {
      "text/plain": [
       "AdaBoostClassifier(learning_rate=0.75, n_estimators=190)"
      ]
     },
     "execution_count": 17,
     "metadata": {},
     "output_type": "execute_result"
    }
   ],
   "source": [
    "rand_AdaBoost.best_estimator_"
   ]
  },
  {
   "cell_type": "code",
   "execution_count": 18,
   "metadata": {},
   "outputs": [
    {
     "name": "stdout",
     "output_type": "stream",
     "text": [
      "Accuracy: 0.6335113484646195\n",
      "Recall: 0.6335113484646195\n",
      "Precision: 0.5317351659769168\n",
      "F1: 0.522689982749957\n",
      "ROC AUC: 0.6845919994281534\n",
      "Confusion matrix:\n",
      " [[923  25   0   8   0]\n",
      " [346  26   0   0   0]\n",
      " [ 79   2   0   0   0]\n",
      " [ 83   0   0   0   0]\n",
      " [  6   0   0   0   0]]\n",
      "              precision    recall  f1-score   support\n",
      "\n",
      "           0       0.64      0.97      0.77       956\n",
      "           1       0.49      0.07      0.12       372\n",
      "           2       0.00      0.00      0.00        81\n",
      "           3       0.00      0.00      0.00        83\n",
      "           4       0.00      0.00      0.00         6\n",
      "\n",
      "    accuracy                           0.63      1498\n",
      "   macro avg       0.23      0.21      0.18      1498\n",
      "weighted avg       0.53      0.63      0.52      1498\n",
      "\n"
     ]
    },
    {
     "name": "stderr",
     "output_type": "stream",
     "text": [
      "C:\\Users\\Home-PC\\anaconda3\\lib\\site-packages\\sklearn\\metrics\\_classification.py:1221: UndefinedMetricWarning: Precision is ill-defined and being set to 0.0 in labels with no predicted samples. Use `zero_division` parameter to control this behavior.\n",
      "  _warn_prf(average, modifier, msg_start, len(result))\n",
      "C:\\Users\\Home-PC\\anaconda3\\lib\\site-packages\\sklearn\\metrics\\_classification.py:1221: UndefinedMetricWarning: Precision and F-score are ill-defined and being set to 0.0 in labels with no predicted samples. Use `zero_division` parameter to control this behavior.\n",
      "  _warn_prf(average, modifier, msg_start, len(result))\n"
     ]
    }
   ],
   "source": [
    "print(\"Accuracy:\", accuracy_score(y_test, y_pred))\n",
    "print(\"Recall:\", recall_score(y_test, y_pred, average = 'weighted'))\n",
    "print(\"Precision:\", precision_score(y_test, y_pred, average = 'weighted'))\n",
    "print(\"F1:\", f1_score(y_test, y_pred, average='weighted'))\n",
    "print(\"ROC AUC:\", roc_auc_score(y_test, y_prob, average = 'weighted', multi_class='ovo'))\n",
    "print(\"Confusion matrix:\\n\", confusion_matrix(y_test, y_pred))\n",
    "print(classification_report(y_test, y_pred))"
   ]
  },
  {
   "cell_type": "code",
   "execution_count": 20,
   "metadata": {},
   "outputs": [],
   "source": [
    "import xgboost as xgb"
   ]
  },
  {
   "cell_type": "code",
   "execution_count": 22,
   "metadata": {},
   "outputs": [
    {
     "name": "stdout",
     "output_type": "stream",
     "text": [
      "Fitting 5 folds for each of 30 candidates, totalling 150 fits\n",
      "[CV] n_estimators=15, max_depth=8, eta=0.5 ...........................\n"
     ]
    },
    {
     "name": "stderr",
     "output_type": "stream",
     "text": [
      "C:\\Users\\Home-PC\\anaconda3\\lib\\site-packages\\sklearn\\model_selection\\_split.py:670: UserWarning: The least populated class in y has only 3 members, which is less than n_splits=5.\n",
      "  warnings.warn((\"The least populated class in y has only %d\"\n",
      "[Parallel(n_jobs=1)]: Using backend SequentialBackend with 1 concurrent workers.\n"
     ]
    },
    {
     "name": "stdout",
     "output_type": "stream",
     "text": [
      "[CV]  n_estimators=15, max_depth=8, eta=0.5, score=0.716, total=   3.7s\n",
      "[CV] n_estimators=15, max_depth=8, eta=0.5 ...........................\n"
     ]
    },
    {
     "name": "stderr",
     "output_type": "stream",
     "text": [
      "[Parallel(n_jobs=1)]: Done   1 out of   1 | elapsed:    3.6s remaining:    0.0s\n"
     ]
    },
    {
     "name": "stdout",
     "output_type": "stream",
     "text": [
      "[CV]  n_estimators=15, max_depth=8, eta=0.5, score=0.670, total=   3.5s\n",
      "[CV] n_estimators=15, max_depth=8, eta=0.5 ...........................\n"
     ]
    },
    {
     "name": "stderr",
     "output_type": "stream",
     "text": [
      "[Parallel(n_jobs=1)]: Done   2 out of   2 | elapsed:    7.1s remaining:    0.0s\n"
     ]
    },
    {
     "name": "stdout",
     "output_type": "stream",
     "text": [
      "[CV]  n_estimators=15, max_depth=8, eta=0.5, score=0.711, total=   3.5s\n",
      "[CV] n_estimators=15, max_depth=8, eta=0.5 ...........................\n",
      "[CV]  n_estimators=15, max_depth=8, eta=0.5, score=0.725, total=   3.5s\n",
      "[CV] n_estimators=15, max_depth=8, eta=0.5 ...........................\n",
      "[CV]  n_estimators=15, max_depth=8, eta=0.5, score=0.690, total=   3.5s\n",
      "[CV] n_estimators=65, max_depth=6, eta=0.5 ...........................\n",
      "[CV]  n_estimators=65, max_depth=6, eta=0.5, score=0.734, total=  11.4s\n",
      "[CV] n_estimators=65, max_depth=6, eta=0.5 ...........................\n",
      "[CV]  n_estimators=65, max_depth=6, eta=0.5, score=0.685, total=   9.6s\n",
      "[CV] n_estimators=65, max_depth=6, eta=0.5 ...........................\n",
      "[CV]  n_estimators=65, max_depth=6, eta=0.5, score=0.730, total=   9.1s\n",
      "[CV] n_estimators=65, max_depth=6, eta=0.5 ...........................\n",
      "[CV]  n_estimators=65, max_depth=6, eta=0.5, score=0.734, total=   9.5s\n",
      "[CV] n_estimators=65, max_depth=6, eta=0.5 ...........................\n",
      "[CV]  n_estimators=65, max_depth=6, eta=0.5, score=0.717, total=   9.1s\n",
      "[CV] n_estimators=75, max_depth=6, eta=0.2 ...........................\n",
      "[CV]  n_estimators=75, max_depth=6, eta=0.2, score=0.729, total=  13.1s\n",
      "[CV] n_estimators=75, max_depth=6, eta=0.2 ...........................\n",
      "[CV]  n_estimators=75, max_depth=6, eta=0.2, score=0.694, total=  13.1s\n",
      "[CV] n_estimators=75, max_depth=6, eta=0.2 ...........................\n",
      "[CV]  n_estimators=75, max_depth=6, eta=0.2, score=0.728, total=  14.6s\n",
      "[CV] n_estimators=75, max_depth=6, eta=0.2 ...........................\n",
      "[CV]  n_estimators=75, max_depth=6, eta=0.2, score=0.744, total=  14.7s\n",
      "[CV] n_estimators=75, max_depth=6, eta=0.2 ...........................\n",
      "[CV]  n_estimators=75, max_depth=6, eta=0.2, score=0.718, total=  13.3s\n",
      "[CV] n_estimators=55, max_depth=4, eta=0.3 ...........................\n",
      "[CV]  n_estimators=55, max_depth=4, eta=0.3, score=0.725, total=   7.6s\n",
      "[CV] n_estimators=55, max_depth=4, eta=0.3 ...........................\n",
      "[CV]  n_estimators=55, max_depth=4, eta=0.3, score=0.691, total=   7.4s\n",
      "[CV] n_estimators=55, max_depth=4, eta=0.3 ...........................\n",
      "[CV]  n_estimators=55, max_depth=4, eta=0.3, score=0.715, total=   7.5s\n",
      "[CV] n_estimators=55, max_depth=4, eta=0.3 ...........................\n",
      "[CV]  n_estimators=55, max_depth=4, eta=0.3, score=0.749, total=   7.4s\n",
      "[CV] n_estimators=55, max_depth=4, eta=0.3 ...........................\n",
      "[CV]  n_estimators=55, max_depth=4, eta=0.3, score=0.720, total=   7.4s\n",
      "[CV] n_estimators=25, max_depth=8, eta=0.2 ...........................\n",
      "[CV]  n_estimators=25, max_depth=8, eta=0.2, score=0.714, total=   5.9s\n",
      "[CV] n_estimators=25, max_depth=8, eta=0.2 ...........................\n",
      "[CV]  n_estimators=25, max_depth=8, eta=0.2, score=0.688, total=   6.2s\n",
      "[CV] n_estimators=25, max_depth=8, eta=0.2 ...........................\n",
      "[CV]  n_estimators=25, max_depth=8, eta=0.2, score=0.708, total=   6.3s\n",
      "[CV] n_estimators=25, max_depth=8, eta=0.2 ...........................\n",
      "[CV]  n_estimators=25, max_depth=8, eta=0.2, score=0.690, total=   6.3s\n",
      "[CV] n_estimators=25, max_depth=8, eta=0.2 ...........................\n",
      "[CV]  n_estimators=25, max_depth=8, eta=0.2, score=0.710, total=   6.2s\n",
      "[CV] n_estimators=45, max_depth=8, eta=0.2 ...........................\n",
      "[CV]  n_estimators=45, max_depth=8, eta=0.2, score=0.726, total=  10.2s\n",
      "[CV] n_estimators=45, max_depth=8, eta=0.2 ...........................\n",
      "[CV]  n_estimators=45, max_depth=8, eta=0.2, score=0.686, total=  10.0s\n",
      "[CV] n_estimators=45, max_depth=8, eta=0.2 ...........................\n",
      "[CV]  n_estimators=45, max_depth=8, eta=0.2, score=0.711, total=  10.0s\n",
      "[CV] n_estimators=45, max_depth=8, eta=0.2 ...........................\n",
      "[CV]  n_estimators=45, max_depth=8, eta=0.2, score=0.717, total=  10.1s\n",
      "[CV] n_estimators=45, max_depth=8, eta=0.2 ...........................\n",
      "[CV]  n_estimators=45, max_depth=8, eta=0.2, score=0.711, total=  10.0s\n",
      "[CV] n_estimators=15, max_depth=14, eta=0.2 ..........................\n",
      "[CV]  n_estimators=15, max_depth=14, eta=0.2, score=0.709, total=   5.0s\n",
      "[CV] n_estimators=15, max_depth=14, eta=0.2 ..........................\n",
      "[CV]  n_estimators=15, max_depth=14, eta=0.2, score=0.679, total=   5.0s\n",
      "[CV] n_estimators=15, max_depth=14, eta=0.2 ..........................\n",
      "[CV]  n_estimators=15, max_depth=14, eta=0.2, score=0.704, total=   5.3s\n",
      "[CV] n_estimators=15, max_depth=14, eta=0.2 ..........................\n",
      "[CV]  n_estimators=15, max_depth=14, eta=0.2, score=0.717, total=   5.0s\n",
      "[CV] n_estimators=15, max_depth=14, eta=0.2 ..........................\n",
      "[CV]  n_estimators=15, max_depth=14, eta=0.2, score=0.688, total=   4.9s\n",
      "[CV] n_estimators=65, max_depth=6, eta=0.4 ...........................\n",
      "[CV]  n_estimators=65, max_depth=6, eta=0.4, score=0.729, total=  10.0s\n",
      "[CV] n_estimators=65, max_depth=6, eta=0.4 ...........................\n",
      "[CV]  n_estimators=65, max_depth=6, eta=0.4, score=0.689, total=   9.9s\n",
      "[CV] n_estimators=65, max_depth=6, eta=0.4 ...........................\n",
      "[CV]  n_estimators=65, max_depth=6, eta=0.4, score=0.716, total=  11.2s\n",
      "[CV] n_estimators=65, max_depth=6, eta=0.4 ...........................\n",
      "[CV]  n_estimators=65, max_depth=6, eta=0.4, score=0.747, total=  11.8s\n",
      "[CV] n_estimators=65, max_depth=6, eta=0.4 ...........................\n",
      "[CV]  n_estimators=65, max_depth=6, eta=0.4, score=0.711, total=  11.9s\n",
      "[CV] n_estimators=5, max_depth=8, eta=0.4 ............................\n",
      "[CV]  n_estimators=5, max_depth=8, eta=0.4, score=0.664, total=   1.5s\n",
      "[CV] n_estimators=5, max_depth=8, eta=0.4 ............................\n",
      "[CV]  n_estimators=5, max_depth=8, eta=0.4, score=0.674, total=   1.5s\n",
      "[CV] n_estimators=5, max_depth=8, eta=0.4 ............................\n",
      "[CV]  n_estimators=5, max_depth=8, eta=0.4, score=0.708, total=   1.4s\n",
      "[CV] n_estimators=5, max_depth=8, eta=0.4 ............................\n",
      "[CV]  n_estimators=5, max_depth=8, eta=0.4, score=0.698, total=   1.5s\n",
      "[CV] n_estimators=5, max_depth=8, eta=0.4 ............................\n",
      "[CV]  n_estimators=5, max_depth=8, eta=0.4, score=0.670, total=   1.5s\n",
      "[CV] n_estimators=95, max_depth=16, eta=0.2 ..........................\n",
      "[CV]  n_estimators=95, max_depth=16, eta=0.2, score=0.745, total=  20.4s\n",
      "[CV] n_estimators=95, max_depth=16, eta=0.2 ..........................\n",
      "[CV]  n_estimators=95, max_depth=16, eta=0.2, score=0.687, total=  20.8s\n",
      "[CV] n_estimators=95, max_depth=16, eta=0.2 ..........................\n",
      "[CV]  n_estimators=95, max_depth=16, eta=0.2, score=0.728, total=  20.5s\n",
      "[CV] n_estimators=95, max_depth=16, eta=0.2 ..........................\n",
      "[CV]  n_estimators=95, max_depth=16, eta=0.2, score=0.724, total=  20.9s\n",
      "[CV] n_estimators=95, max_depth=16, eta=0.2 ..........................\n",
      "[CV]  n_estimators=95, max_depth=16, eta=0.2, score=0.712, total=  19.9s\n",
      "[CV] n_estimators=35, max_depth=14, eta=0.4 ..........................\n",
      "[CV]  n_estimators=35, max_depth=14, eta=0.4, score=0.710, total=   8.1s\n",
      "[CV] n_estimators=35, max_depth=14, eta=0.4 ..........................\n",
      "[CV]  n_estimators=35, max_depth=14, eta=0.4, score=0.691, total=   8.1s\n",
      "[CV] n_estimators=35, max_depth=14, eta=0.4 ..........................\n",
      "[CV]  n_estimators=35, max_depth=14, eta=0.4, score=0.719, total=   9.6s\n",
      "[CV] n_estimators=35, max_depth=14, eta=0.4 ..........................\n",
      "[CV]  n_estimators=35, max_depth=14, eta=0.4, score=0.718, total=   8.4s\n",
      "[CV] n_estimators=35, max_depth=14, eta=0.4 ..........................\n",
      "[CV]  n_estimators=35, max_depth=14, eta=0.4, score=0.705, total=   9.2s\n",
      "[CV] n_estimators=65, max_depth=18, eta=0.3 ..........................\n",
      "[CV]  n_estimators=65, max_depth=18, eta=0.3, score=0.718, total=  13.5s\n",
      "[CV] n_estimators=65, max_depth=18, eta=0.3 ..........................\n",
      "[CV]  n_estimators=65, max_depth=18, eta=0.3, score=0.691, total=  13.7s\n",
      "[CV] n_estimators=65, max_depth=18, eta=0.3 ..........................\n",
      "[CV]  n_estimators=65, max_depth=18, eta=0.3, score=0.735, total=  13.6s\n",
      "[CV] n_estimators=65, max_depth=18, eta=0.3 ..........................\n",
      "[CV]  n_estimators=65, max_depth=18, eta=0.3, score=0.723, total=  14.9s\n",
      "[CV] n_estimators=65, max_depth=18, eta=0.3 ..........................\n",
      "[CV]  n_estimators=65, max_depth=18, eta=0.3, score=0.709, total=  14.7s\n",
      "[CV] n_estimators=25, max_depth=14, eta=0.3 ..........................\n"
     ]
    },
    {
     "name": "stdout",
     "output_type": "stream",
     "text": [
      "[CV]  n_estimators=25, max_depth=14, eta=0.3, score=0.703, total=   7.6s\n",
      "[CV] n_estimators=25, max_depth=14, eta=0.3 ..........................\n",
      "[CV]  n_estimators=25, max_depth=14, eta=0.3, score=0.669, total=   7.6s\n",
      "[CV] n_estimators=25, max_depth=14, eta=0.3 ..........................\n",
      "[CV]  n_estimators=25, max_depth=14, eta=0.3, score=0.722, total=   8.4s\n",
      "[CV] n_estimators=25, max_depth=14, eta=0.3 ..........................\n",
      "[CV]  n_estimators=25, max_depth=14, eta=0.3, score=0.715, total=   7.6s\n",
      "[CV] n_estimators=25, max_depth=14, eta=0.3 ..........................\n",
      "[CV]  n_estimators=25, max_depth=14, eta=0.3, score=0.686, total=   7.6s\n",
      "[CV] n_estimators=15, max_depth=6, eta=0.1 ...........................\n",
      "[CV]  n_estimators=15, max_depth=6, eta=0.1, score=0.707, total=   3.6s\n",
      "[CV] n_estimators=15, max_depth=6, eta=0.1 ...........................\n",
      "[CV]  n_estimators=15, max_depth=6, eta=0.1, score=0.675, total=   3.3s\n",
      "[CV] n_estimators=15, max_depth=6, eta=0.1 ...........................\n",
      "[CV]  n_estimators=15, max_depth=6, eta=0.1, score=0.704, total=   3.2s\n",
      "[CV] n_estimators=15, max_depth=6, eta=0.1 ...........................\n",
      "[CV]  n_estimators=15, max_depth=6, eta=0.1, score=0.723, total=   3.3s\n",
      "[CV] n_estimators=15, max_depth=6, eta=0.1 ...........................\n",
      "[CV]  n_estimators=15, max_depth=6, eta=0.1, score=0.683, total=   3.3s\n",
      "[CV] n_estimators=55, max_depth=4, eta=0.4 ...........................\n",
      "[CV]  n_estimators=55, max_depth=4, eta=0.4, score=0.732, total=   7.6s\n",
      "[CV] n_estimators=55, max_depth=4, eta=0.4 ...........................\n",
      "[CV]  n_estimators=55, max_depth=4, eta=0.4, score=0.683, total=   7.8s\n",
      "[CV] n_estimators=55, max_depth=4, eta=0.4 ...........................\n",
      "[CV]  n_estimators=55, max_depth=4, eta=0.4, score=0.724, total=   7.7s\n",
      "[CV] n_estimators=55, max_depth=4, eta=0.4 ...........................\n",
      "[CV]  n_estimators=55, max_depth=4, eta=0.4, score=0.730, total=   8.0s\n",
      "[CV] n_estimators=55, max_depth=4, eta=0.4 ...........................\n",
      "[CV]  n_estimators=55, max_depth=4, eta=0.4, score=0.720, total=   7.9s\n",
      "[CV] n_estimators=95, max_depth=4, eta=0.2 ...........................\n",
      "[CV]  n_estimators=95, max_depth=4, eta=0.2, score=0.748, total=  14.0s\n",
      "[CV] n_estimators=95, max_depth=4, eta=0.2 ...........................\n",
      "[CV]  n_estimators=95, max_depth=4, eta=0.2, score=0.689, total=  13.9s\n",
      "[CV] n_estimators=95, max_depth=4, eta=0.2 ...........................\n",
      "[CV]  n_estimators=95, max_depth=4, eta=0.2, score=0.719, total=  14.7s\n",
      "[CV] n_estimators=95, max_depth=4, eta=0.2 ...........................\n",
      "[CV]  n_estimators=95, max_depth=4, eta=0.2, score=0.747, total=  14.7s\n",
      "[CV] n_estimators=95, max_depth=4, eta=0.2 ...........................\n",
      "[CV]  n_estimators=95, max_depth=4, eta=0.2, score=0.728, total=  13.5s\n",
      "[CV] n_estimators=85, max_depth=4, eta=0.4 ...........................\n",
      "[CV]  n_estimators=85, max_depth=4, eta=0.4, score=0.732, total=  11.8s\n",
      "[CV] n_estimators=85, max_depth=4, eta=0.4 ...........................\n",
      "[CV]  n_estimators=85, max_depth=4, eta=0.4, score=0.693, total=  16.0s\n",
      "[CV] n_estimators=85, max_depth=4, eta=0.4 ...........................\n",
      "[CV]  n_estimators=85, max_depth=4, eta=0.4, score=0.707, total=  15.1s\n",
      "[CV] n_estimators=85, max_depth=4, eta=0.4 ...........................\n",
      "[CV]  n_estimators=85, max_depth=4, eta=0.4, score=0.735, total=  12.5s\n",
      "[CV] n_estimators=85, max_depth=4, eta=0.4 ...........................\n",
      "[CV]  n_estimators=85, max_depth=4, eta=0.4, score=0.721, total=  11.0s\n",
      "[CV] n_estimators=85, max_depth=8, eta=0.5 ...........................\n",
      "[CV]  n_estimators=85, max_depth=8, eta=0.5, score=0.734, total=  12.0s\n",
      "[CV] n_estimators=85, max_depth=8, eta=0.5 ...........................\n",
      "[CV]  n_estimators=85, max_depth=8, eta=0.5, score=0.687, total=  11.6s\n",
      "[CV] n_estimators=85, max_depth=8, eta=0.5 ...........................\n",
      "[CV]  n_estimators=85, max_depth=8, eta=0.5, score=0.725, total=  12.5s\n",
      "[CV] n_estimators=85, max_depth=8, eta=0.5 ...........................\n",
      "[CV]  n_estimators=85, max_depth=8, eta=0.5, score=0.738, total=  14.1s\n",
      "[CV] n_estimators=85, max_depth=8, eta=0.5 ...........................\n",
      "[CV]  n_estimators=85, max_depth=8, eta=0.5, score=0.705, total=  14.7s\n",
      "[CV] n_estimators=15, max_depth=12, eta=0.3 ..........................\n",
      "[CV]  n_estimators=15, max_depth=12, eta=0.3, score=0.714, total=   5.0s\n",
      "[CV] n_estimators=15, max_depth=12, eta=0.3 ..........................\n",
      "[CV]  n_estimators=15, max_depth=12, eta=0.3, score=0.682, total=   5.0s\n",
      "[CV] n_estimators=15, max_depth=12, eta=0.3 ..........................\n",
      "[CV]  n_estimators=15, max_depth=12, eta=0.3, score=0.723, total=   5.1s\n",
      "[CV] n_estimators=15, max_depth=12, eta=0.3 ..........................\n",
      "[CV]  n_estimators=15, max_depth=12, eta=0.3, score=0.714, total=   4.6s\n",
      "[CV] n_estimators=15, max_depth=12, eta=0.3 ..........................\n",
      "[CV]  n_estimators=15, max_depth=12, eta=0.3, score=0.692, total=   4.7s\n",
      "[CV] n_estimators=45, max_depth=10, eta=0.3 ..........................\n",
      "[CV]  n_estimators=45, max_depth=10, eta=0.3, score=0.716, total=  10.3s\n",
      "[CV] n_estimators=45, max_depth=10, eta=0.3 ..........................\n",
      "[CV]  n_estimators=45, max_depth=10, eta=0.3, score=0.692, total=  10.2s\n",
      "[CV] n_estimators=45, max_depth=10, eta=0.3 ..........................\n",
      "[CV]  n_estimators=45, max_depth=10, eta=0.3, score=0.725, total=  10.4s\n",
      "[CV] n_estimators=45, max_depth=10, eta=0.3 ..........................\n",
      "[CV]  n_estimators=45, max_depth=10, eta=0.3, score=0.720, total=  10.7s\n",
      "[CV] n_estimators=45, max_depth=10, eta=0.3 ..........................\n",
      "[CV]  n_estimators=45, max_depth=10, eta=0.3, score=0.708, total=  11.9s\n",
      "[CV] n_estimators=15, max_depth=4, eta=0.2 ...........................\n",
      "[CV]  n_estimators=15, max_depth=4, eta=0.2, score=0.725, total=   3.0s\n",
      "[CV] n_estimators=15, max_depth=4, eta=0.2 ...........................\n",
      "[CV]  n_estimators=15, max_depth=4, eta=0.2, score=0.678, total=   4.0s\n",
      "[CV] n_estimators=15, max_depth=4, eta=0.2 ...........................\n",
      "[CV]  n_estimators=15, max_depth=4, eta=0.2, score=0.699, total=   2.8s\n",
      "[CV] n_estimators=15, max_depth=4, eta=0.2 ...........................\n",
      "[CV]  n_estimators=15, max_depth=4, eta=0.2, score=0.727, total=   2.8s\n",
      "[CV] n_estimators=15, max_depth=4, eta=0.2 ...........................\n",
      "[CV]  n_estimators=15, max_depth=4, eta=0.2, score=0.693, total=   3.9s\n",
      "[CV] n_estimators=95, max_depth=16, eta=0.1 ..........................\n",
      "[CV]  n_estimators=95, max_depth=16, eta=0.1, score=0.736, total=  29.8s\n",
      "[CV] n_estimators=95, max_depth=16, eta=0.1 ..........................\n",
      "[CV]  n_estimators=95, max_depth=16, eta=0.1, score=0.673, total=  30.5s\n",
      "[CV] n_estimators=95, max_depth=16, eta=0.1 ..........................\n",
      "[CV]  n_estimators=95, max_depth=16, eta=0.1, score=0.720, total=  34.9s\n",
      "[CV] n_estimators=95, max_depth=16, eta=0.1 ..........................\n",
      "[CV]  n_estimators=95, max_depth=16, eta=0.1, score=0.720, total=  29.8s\n",
      "[CV] n_estimators=95, max_depth=16, eta=0.1 ..........................\n",
      "[CV]  n_estimators=95, max_depth=16, eta=0.1, score=0.705, total=  29.9s\n",
      "[CV] n_estimators=15, max_depth=4, eta=0.1 ...........................\n",
      "[CV]  n_estimators=15, max_depth=4, eta=0.1, score=0.702, total=   3.0s\n",
      "[CV] n_estimators=15, max_depth=4, eta=0.1 ...........................\n",
      "[CV]  n_estimators=15, max_depth=4, eta=0.1, score=0.678, total=   2.4s\n",
      "[CV] n_estimators=15, max_depth=4, eta=0.1 ...........................\n",
      "[CV]  n_estimators=15, max_depth=4, eta=0.1, score=0.682, total=   2.3s\n",
      "[CV] n_estimators=15, max_depth=4, eta=0.1 ...........................\n",
      "[CV]  n_estimators=15, max_depth=4, eta=0.1, score=0.714, total=   2.8s\n",
      "[CV] n_estimators=15, max_depth=4, eta=0.1 ...........................\n",
      "[CV]  n_estimators=15, max_depth=4, eta=0.1, score=0.683, total=   2.4s\n",
      "[CV] n_estimators=75, max_depth=14, eta=0.1 ..........................\n",
      "[CV]  n_estimators=75, max_depth=14, eta=0.1, score=0.716, total=  23.4s\n",
      "[CV] n_estimators=75, max_depth=14, eta=0.1 ..........................\n",
      "[CV]  n_estimators=75, max_depth=14, eta=0.1, score=0.672, total=  23.5s\n",
      "[CV] n_estimators=75, max_depth=14, eta=0.1 ..........................\n",
      "[CV]  n_estimators=75, max_depth=14, eta=0.1, score=0.727, total=  22.4s\n",
      "[CV] n_estimators=75, max_depth=14, eta=0.1 ..........................\n"
     ]
    },
    {
     "name": "stdout",
     "output_type": "stream",
     "text": [
      "[CV]  n_estimators=75, max_depth=14, eta=0.1, score=0.724, total=  21.6s\n",
      "[CV] n_estimators=75, max_depth=14, eta=0.1 ..........................\n",
      "[CV]  n_estimators=75, max_depth=14, eta=0.1, score=0.705, total=  22.1s\n",
      "[CV] n_estimators=75, max_depth=4, eta=0.3 ...........................\n",
      "[CV]  n_estimators=75, max_depth=4, eta=0.3, score=0.722, total=  12.2s\n",
      "[CV] n_estimators=75, max_depth=4, eta=0.3 ...........................\n",
      "[CV]  n_estimators=75, max_depth=4, eta=0.3, score=0.690, total=  15.0s\n",
      "[CV] n_estimators=75, max_depth=4, eta=0.3 ...........................\n",
      "[CV]  n_estimators=75, max_depth=4, eta=0.3, score=0.726, total=  11.2s\n",
      "[CV] n_estimators=75, max_depth=4, eta=0.3 ...........................\n",
      "[CV]  n_estimators=75, max_depth=4, eta=0.3, score=0.744, total=  10.5s\n",
      "[CV] n_estimators=75, max_depth=4, eta=0.3 ...........................\n",
      "[CV]  n_estimators=75, max_depth=4, eta=0.3, score=0.723, total=  11.0s\n",
      "[CV] n_estimators=45, max_depth=4, eta=0.5 ...........................\n",
      "[CV]  n_estimators=45, max_depth=4, eta=0.5, score=0.718, total=   8.7s\n",
      "[CV] n_estimators=45, max_depth=4, eta=0.5 ...........................\n",
      "[CV]  n_estimators=45, max_depth=4, eta=0.5, score=0.692, total=   7.2s\n",
      "[CV] n_estimators=45, max_depth=4, eta=0.5 ...........................\n",
      "[CV]  n_estimators=45, max_depth=4, eta=0.5, score=0.710, total=   9.5s\n",
      "[CV] n_estimators=45, max_depth=4, eta=0.5 ...........................\n",
      "[CV]  n_estimators=45, max_depth=4, eta=0.5, score=0.743, total=   9.0s\n",
      "[CV] n_estimators=45, max_depth=4, eta=0.5 ...........................\n",
      "[CV]  n_estimators=45, max_depth=4, eta=0.5, score=0.713, total=   7.4s\n",
      "[CV] n_estimators=85, max_depth=14, eta=0.5 ..........................\n",
      "[CV]  n_estimators=85, max_depth=14, eta=0.5, score=0.735, total=  15.6s\n",
      "[CV] n_estimators=85, max_depth=14, eta=0.5 ..........................\n",
      "[CV]  n_estimators=85, max_depth=14, eta=0.5, score=0.683, total=  13.0s\n",
      "[CV] n_estimators=85, max_depth=14, eta=0.5 ..........................\n",
      "[CV]  n_estimators=85, max_depth=14, eta=0.5, score=0.717, total=  14.8s\n",
      "[CV] n_estimators=85, max_depth=14, eta=0.5 ..........................\n",
      "[CV]  n_estimators=85, max_depth=14, eta=0.5, score=0.718, total=  12.4s\n",
      "[CV] n_estimators=85, max_depth=14, eta=0.5 ..........................\n",
      "[CV]  n_estimators=85, max_depth=14, eta=0.5, score=0.706, total=  11.8s\n",
      "[CV] n_estimators=35, max_depth=10, eta=0.3 ..........................\n",
      "[CV]  n_estimators=35, max_depth=10, eta=0.3, score=0.716, total=   8.5s\n",
      "[CV] n_estimators=35, max_depth=10, eta=0.3 ..........................\n",
      "[CV]  n_estimators=35, max_depth=10, eta=0.3, score=0.691, total=   8.4s\n",
      "[CV] n_estimators=35, max_depth=10, eta=0.3 ..........................\n",
      "[CV]  n_estimators=35, max_depth=10, eta=0.3, score=0.724, total=   8.6s\n",
      "[CV] n_estimators=35, max_depth=10, eta=0.3 ..........................\n",
      "[CV]  n_estimators=35, max_depth=10, eta=0.3, score=0.717, total=   9.5s\n",
      "[CV] n_estimators=35, max_depth=10, eta=0.3 ..........................\n",
      "[CV]  n_estimators=35, max_depth=10, eta=0.3, score=0.710, total=   9.4s\n",
      "[CV] n_estimators=65, max_depth=8, eta=0.1 ...........................\n",
      "[CV]  n_estimators=65, max_depth=8, eta=0.1, score=0.720, total=  17.2s\n",
      "[CV] n_estimators=65, max_depth=8, eta=0.1 ...........................\n",
      "[CV]  n_estimators=65, max_depth=8, eta=0.1, score=0.679, total=  17.1s\n",
      "[CV] n_estimators=65, max_depth=8, eta=0.1 ...........................\n",
      "[CV]  n_estimators=65, max_depth=8, eta=0.1, score=0.721, total=  18.7s\n",
      "[CV] n_estimators=65, max_depth=8, eta=0.1 ...........................\n",
      "[CV]  n_estimators=65, max_depth=8, eta=0.1, score=0.715, total=  18.6s\n",
      "[CV] n_estimators=65, max_depth=8, eta=0.1 ...........................\n",
      "[CV]  n_estimators=65, max_depth=8, eta=0.1, score=0.706, total=  20.3s\n",
      "[CV] n_estimators=15, max_depth=18, eta=0.2 ..........................\n",
      "[CV]  n_estimators=15, max_depth=18, eta=0.2, score=0.695, total=   5.9s\n",
      "[CV] n_estimators=15, max_depth=18, eta=0.2 ..........................\n",
      "[CV]  n_estimators=15, max_depth=18, eta=0.2, score=0.679, total=   6.1s\n",
      "[CV] n_estimators=15, max_depth=18, eta=0.2 ..........................\n",
      "[CV]  n_estimators=15, max_depth=18, eta=0.2, score=0.699, total=   5.7s\n",
      "[CV] n_estimators=15, max_depth=18, eta=0.2 ..........................\n",
      "[CV]  n_estimators=15, max_depth=18, eta=0.2, score=0.714, total=   5.3s\n",
      "[CV] n_estimators=15, max_depth=18, eta=0.2 ..........................\n",
      "[CV]  n_estimators=15, max_depth=18, eta=0.2, score=0.681, total=   5.2s\n"
     ]
    },
    {
     "name": "stderr",
     "output_type": "stream",
     "text": [
      "[Parallel(n_jobs=1)]: Done 150 out of 150 | elapsed: 26.1min finished\n"
     ]
    }
   ],
   "source": [
    "XGB_param = { \n",
    "    \"n_estimators\": range(5, 100, 10), \n",
    "    'max_depth': range(4, 20, 2), \n",
    "    'eta': [0.1, 0.2, 0.3, 0.4, 0.5]\n",
    "} \n",
    "# max_depth - максимальная глубина деревьев, eta - специальный параметр скорости обучения, silent - если 1, то программа\n",
    "# работает по-тихому, objective - целевая функция, eval_metric - по какой метрике оцениваем качество. AUC совмещает в себе \n",
    "# precision и recall - альтернатива f1-score\n",
    "\n",
    "\n",
    "grid = RandomizedSearchCV(estimator=xgb.XGBClassifier(objective='multi:softmax'), \n",
    "                          param_distributions=XGB_param, n_iter=30,\n",
    "                          cv=5, verbose=3, scoring=f1)\n",
    "grid.fit(X_train, y_train)\n",
    "y_pred = grid.predict(X_test)\n",
    "y_prob = grid.predict_proba(X_test)"
   ]
  },
  {
   "cell_type": "code",
   "execution_count": 23,
   "metadata": {},
   "outputs": [
    {
     "data": {
      "text/plain": [
       "XGBClassifier(base_score=0.5, booster='gbtree', colsample_bylevel=1,\n",
       "              colsample_bynode=1, colsample_bytree=1, eta=0.2, gamma=0,\n",
       "              gpu_id=-1, importance_type='gain', interaction_constraints='',\n",
       "              learning_rate=0.200000003, max_delta_step=0, max_depth=4,\n",
       "              min_child_weight=1, missing=nan, monotone_constraints='()',\n",
       "              n_estimators=95, n_jobs=0, num_parallel_tree=1,\n",
       "              objective='multi:softprob', random_state=0, reg_alpha=0,\n",
       "              reg_lambda=1, scale_pos_weight=None, subsample=1,\n",
       "              tree_method='exact', validate_parameters=1, verbosity=None)"
      ]
     },
     "execution_count": 23,
     "metadata": {},
     "output_type": "execute_result"
    }
   ],
   "source": [
    "grid.best_estimator_"
   ]
  },
  {
   "cell_type": "code",
   "execution_count": 30,
   "metadata": {},
   "outputs": [
    {
     "name": "stdout",
     "output_type": "stream",
     "text": [
      "Accuracy: 0.7309746328437917\n",
      "Recall: 0.7309746328437917\n",
      "Precision: 0.7309746328437917\n",
      "F1: 0.7309746328437917\n",
      "Confusion matrix:\n",
      " [[857  72  14  13   0]\n",
      " [162 205   3   2   0]\n",
      " [ 49  18  14   0   0]\n",
      " [ 59   5   0  19   0]\n",
      " [  6   0   0   0   0]]\n",
      "              precision    recall  f1-score   support\n",
      "\n",
      "           0       0.76      0.90      0.82       956\n",
      "           1       0.68      0.55      0.61       372\n",
      "           2       0.45      0.17      0.25        81\n",
      "           3       0.56      0.23      0.32        83\n",
      "           4       0.00      0.00      0.00         6\n",
      "\n",
      "    accuracy                           0.73      1498\n",
      "   macro avg       0.49      0.37      0.40      1498\n",
      "weighted avg       0.71      0.73      0.71      1498\n",
      "\n"
     ]
    },
    {
     "name": "stderr",
     "output_type": "stream",
     "text": [
      "C:\\Users\\Home-PC\\anaconda3\\lib\\site-packages\\sklearn\\metrics\\_classification.py:1221: UndefinedMetricWarning: Precision and F-score are ill-defined and being set to 0.0 in labels with no predicted samples. Use `zero_division` parameter to control this behavior.\n",
      "  _warn_prf(average, modifier, msg_start, len(result))\n"
     ]
    }
   ],
   "source": [
    "print(\"Accuracy:\",accuracy_score(y_test, y_pred))\n",
    "print(\"Recall:\", recall_score(y_test, y_pred, average='micro'))\n",
    "print(\"Precision:\", precision_score(y_test, y_pred, average='micro'))\n",
    "print(\"F1:\", f1_score(y_test, y_pred, average='micro'))\n",
    "print(\"Confusion matrix:\\n\", confusion_matrix(y_test, y_pred))\n",
    "print(classification_report(y_test, y_pred))"
   ]
  },
  {
   "cell_type": "code",
   "execution_count": 31,
   "metadata": {},
   "outputs": [],
   "source": [
    "from sklearn.svm import SVC"
   ]
  },
  {
   "cell_type": "code",
   "execution_count": 32,
   "metadata": {},
   "outputs": [
    {
     "name": "stdout",
     "output_type": "stream",
     "text": [
      "Fitting 3 folds for each of 10 candidates, totalling 30 fits\n"
     ]
    },
    {
     "name": "stderr",
     "output_type": "stream",
     "text": [
      "[Parallel(n_jobs=-1)]: Using backend LokyBackend with 4 concurrent workers.\n",
      "[Parallel(n_jobs=-1)]: Done  30 out of  30 | elapsed:  2.0min finished\n"
     ]
    }
   ],
   "source": [
    "svcclassifier = SVC(probability=True)\n",
    "param_grid = {\n",
    "    'kernel': ['linear', 'poly', 'rbf', 'sigmoid'],\n",
    "    'degree': [2, 3, 4, 5, 6, 7]\n",
    "}\n",
    "\n",
    "rand_svc = RandomizedSearchCV(estimator=svcclassifier,\n",
    "                              param_distributions=param_grid,\n",
    "                              n_jobs=-1,\n",
    "                              cv=3,\n",
    "                              verbose=3,\n",
    "                              scoring=f1)\n",
    "\n",
    "rand_svc.fit(X_train, y_train)\n",
    "\n",
    "y_pred = rand_svc.predict(X_test)\n",
    "y_proba = rand_svc.predict_proba(X_test)"
   ]
  },
  {
   "cell_type": "code",
   "execution_count": 33,
   "metadata": {},
   "outputs": [
    {
     "name": "stdout",
     "output_type": "stream",
     "text": [
      "Accuracy: 0.7356475300400535\n",
      "Recall: 0.7356475300400535\n",
      "Precision: 0.7171788264818796\n",
      "F1: 0.7016976912629467\n",
      "ROC AUC: 0.8208184199367197\n",
      "Confusion matrix:\n",
      " [[872  74   4   6   0]\n",
      " [159 211   2   0   0]\n",
      " [ 53  18  10   0   0]\n",
      " [ 68   6   0   9   0]\n",
      " [  6   0   0   0   0]]\n",
      "              precision    recall  f1-score   support\n",
      "\n",
      "           0       0.75      0.91      0.82       956\n",
      "           1       0.68      0.57      0.62       372\n",
      "           2       0.62      0.12      0.21        81\n",
      "           3       0.60      0.11      0.18        83\n",
      "           4       0.00      0.00      0.00         6\n",
      "\n",
      "    accuracy                           0.74      1498\n",
      "   macro avg       0.53      0.34      0.37      1498\n",
      "weighted avg       0.72      0.74      0.70      1498\n",
      "\n"
     ]
    },
    {
     "name": "stderr",
     "output_type": "stream",
     "text": [
      "C:\\Users\\Home-PC\\anaconda3\\lib\\site-packages\\sklearn\\metrics\\_classification.py:1221: UndefinedMetricWarning: Precision is ill-defined and being set to 0.0 in labels with no predicted samples. Use `zero_division` parameter to control this behavior.\n",
      "  _warn_prf(average, modifier, msg_start, len(result))\n",
      "C:\\Users\\Home-PC\\anaconda3\\lib\\site-packages\\sklearn\\metrics\\_classification.py:1221: UndefinedMetricWarning: Precision and F-score are ill-defined and being set to 0.0 in labels with no predicted samples. Use `zero_division` parameter to control this behavior.\n",
      "  _warn_prf(average, modifier, msg_start, len(result))\n"
     ]
    }
   ],
   "source": [
    "\n",
    "print(\"Accuracy:\", accuracy_score(y_test, y_pred))\n",
    "print(\"Recall:\", recall_score(y_test, y_pred, average = 'weighted'))\n",
    "print(\"Precision:\", precision_score(y_test, y_pred, average = 'weighted'))\n",
    "print(\"F1:\", f1_score(y_test, y_pred, average='weighted'))\n",
    "print(\"ROC AUC:\", roc_auc_score(y_test, y_prob, average = 'weighted', multi_class='ovo'))\n",
    "print(\"Confusion matrix:\\n\", confusion_matrix(y_test, y_pred))\n",
    "print(classification_report(y_test, y_pred))"
   ]
  },
  {
   "cell_type": "code",
   "execution_count": null,
   "metadata": {},
   "outputs": [],
   "source": []
  }
 ],
 "metadata": {
  "kernelspec": {
   "display_name": "Python 3",
   "language": "python",
   "name": "python3"
  },
  "language_info": {
   "codemirror_mode": {
    "name": "ipython",
    "version": 3
   },
   "file_extension": ".py",
   "mimetype": "text/x-python",
   "name": "python",
   "nbconvert_exporter": "python",
   "pygments_lexer": "ipython3",
   "version": "3.8.3"
  }
 },
 "nbformat": 4,
 "nbformat_minor": 4
}
