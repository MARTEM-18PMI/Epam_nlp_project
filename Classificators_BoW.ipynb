{
 "cells": [
  {
   "cell_type": "code",
   "execution_count": 1,
   "metadata": {
    "code_folding": []
   },
   "outputs": [],
   "source": [
    "%run BoW.ipynb"
   ]
  },
  {
   "cell_type": "code",
   "execution_count": 2,
   "metadata": {},
   "outputs": [
    {
     "data": {
      "text/html": [
       "<div>\n",
       "<style scoped>\n",
       "    .dataframe tbody tr th:only-of-type {\n",
       "        vertical-align: middle;\n",
       "    }\n",
       "\n",
       "    .dataframe tbody tr th {\n",
       "        vertical-align: top;\n",
       "    }\n",
       "\n",
       "    .dataframe thead th {\n",
       "        text-align: right;\n",
       "    }\n",
       "</style>\n",
       "<table border=\"1\" class=\"dataframe\">\n",
       "  <thead>\n",
       "    <tr style=\"text-align: right;\">\n",
       "      <th></th>\n",
       "      <th>title</th>\n",
       "      <th>texts</th>\n",
       "      <th>date</th>\n",
       "      <th>tag</th>\n",
       "      <th>title_vector</th>\n",
       "      <th>texts_vector</th>\n",
       "    </tr>\n",
       "  </thead>\n",
       "  <tbody>\n",
       "    <tr>\n",
       "      <th>0</th>\n",
       "      <td>британский сми запрещать писать новость мужчин...</td>\n",
       "      <td>британский министерство информация принимать д...</td>\n",
       "      <td>Октябрь 7, 2020</td>\n",
       "      <td>society</td>\n",
       "      <td>[0, 0, 0, 0, 0, 0, 0, 0, 0, 0, 0, 0, 0, 0, 0, ...</td>\n",
       "      <td>[0, 0, 0, 0, 0, 0, 0, 0, 0, 0, 0, 0, 0, 0, 0, ...</td>\n",
       "    </tr>\n",
       "    <tr>\n",
       "      <th>1</th>\n",
       "      <td>ненецкий автономный округ быть жить конституци...</td>\n",
       "      <td>несмотря отрицательный результат голосование о...</td>\n",
       "      <td>Июль 3, 2020</td>\n",
       "      <td>society</td>\n",
       "      <td>[0, 0, 0, 0, 0, 0, 0, 0, 0, 0, 0, 0, 0, 0, 0, ...</td>\n",
       "      <td>[0, 0, 0, 0, 0, 0, 0, 0, 0, 0, 0, 0, 0, 0, 0, ...</td>\n",
       "    </tr>\n",
       "    <tr>\n",
       "      <th>2</th>\n",
       "      <td>минприроды обсуждать введение платный посещени...</td>\n",
       "      <td>специалист минприроды обсуждать коллега мвд мч...</td>\n",
       "      <td>Декабрь 2, 2019</td>\n",
       "      <td>society</td>\n",
       "      <td>[0, 0, 0, 0, 0, 0, 0, 0, 0, 0, 0, 0, 0, 0, 0, ...</td>\n",
       "      <td>[0, 0, 0, 0, 0, 0, 0, 0, 0, 0, 0, 0, 0, 0, 0, ...</td>\n",
       "    </tr>\n",
       "    <tr>\n",
       "      <th>3</th>\n",
       "      <td>heroes три запрещать сша изза отсутствие транс...</td>\n",
       "      <td>онлайндистрибьютер компьютерный игра включая s...</td>\n",
       "      <td>Февраль 1, 2020</td>\n",
       "      <td>society</td>\n",
       "      <td>[0, 0, 0, 0, 0, 0, 0, 0, 0, 0, 0, 0, 0, 0, 0, ...</td>\n",
       "      <td>[0, 0, 0, 0, 0, 0, 0, 0, 0, 0, 0, 0, 0, 0, 0, ...</td>\n",
       "    </tr>\n",
       "    <tr>\n",
       "      <th>4</th>\n",
       "      <td>подмосковный черноголовка строиться частный тю...</td>\n",
       "      <td>сми обсуждаться инициатива создание россия час...</td>\n",
       "      <td>Ноябрь 21, 2019</td>\n",
       "      <td>society</td>\n",
       "      <td>[0, 0, 0, 0, 0, 0, 0, 0, 0, 0, 0, 0, 0, 0, 0, ...</td>\n",
       "      <td>[0, 0, 0, 0, 0, 0, 0, 0, 0, 0, 0, 0, 0, 0, 0, ...</td>\n",
       "    </tr>\n",
       "    <tr>\n",
       "      <th>5</th>\n",
       "      <td>немец попросить российский вицепремьера гордее...</td>\n",
       "      <td>российский вицепремьерминистр алексей гордеев ...</td>\n",
       "      <td>Февраль 15, 2019</td>\n",
       "      <td>politics</td>\n",
       "      <td>[0, 0, 0, 0, 0, 0, 0, 0, 0, 0, 0, 0, 0, 0, 0, ...</td>\n",
       "      <td>[0, 0, 0, 0, 0, 0, 0, 0, 0, 0, 0, 0, 0, 0, 0, ...</td>\n",
       "    </tr>\n",
       "    <tr>\n",
       "      <th>6</th>\n",
       "      <td>космонавт леонов подарить дом флорида</td>\n",
       "      <td>сша структура связывать космический центр кенн...</td>\n",
       "      <td>Июль 4, 2019</td>\n",
       "      <td>politics</td>\n",
       "      <td>[0, 0, 0, 0, 0, 0, 0, 0, 0, 0, 0, 0, 0, 0, 0, ...</td>\n",
       "      <td>[0, 0, 0, 0, 0, 0, 0, 0, 0, 0, 0, 0, 0, 0, 0, ...</td>\n",
       "    </tr>\n",
       "    <tr>\n",
       "      <th>7</th>\n",
       "      <td>генерал участвовать расстрел белый дом москва ...</td>\n",
       "      <td>отставной генералмайор василий желдыбин участв...</td>\n",
       "      <td>Ноябрь 26, 2020</td>\n",
       "      <td>politics</td>\n",
       "      <td>[0, 0, 0, 0, 0, 0, 0, 0, 0, 0, 0, 0, 0, 0, 0, ...</td>\n",
       "      <td>[0, 0, 0, 0, 0, 0, 0, 0, 0, 0, 0, 0, 0, 0, 0, ...</td>\n",
       "    </tr>\n",
       "    <tr>\n",
       "      <th>8</th>\n",
       "      <td>митинг поддержка александр лукашенко выходить ...</td>\n",
       "      <td>согласованный акция поддержка результат презид...</td>\n",
       "      <td>Август 16, 2020</td>\n",
       "      <td>society</td>\n",
       "      <td>[0, 0, 0, 0, 0, 0, 0, 0, 0, 0, 0, 0, 0, 0, 0, ...</td>\n",
       "      <td>[0, 0, 0, 0, 0, 0, 0, 0, 0, 0, 0, 0, 0, 0, 0, ...</td>\n",
       "    </tr>\n",
       "    <tr>\n",
       "      <th>9</th>\n",
       "      <td>следующий правительство швейцария набирать объ...</td>\n",
       "      <td>заседание федеральный совет швейцария принимат...</td>\n",
       "      <td>Ноябрь 20, 2018</td>\n",
       "      <td>politics</td>\n",
       "      <td>[0, 0, 0, 0, 0, 0, 0, 0, 0, 0, 0, 0, 0, 0, 0, ...</td>\n",
       "      <td>[0, 0, 0, 0, 0, 0, 0, 0, 0, 0, 0, 0, 0, 0, 0, ...</td>\n",
       "    </tr>\n",
       "  </tbody>\n",
       "</table>\n",
       "</div>"
      ],
      "text/plain": [
       "                                               title  \\\n",
       "0  британский сми запрещать писать новость мужчин...   \n",
       "1  ненецкий автономный округ быть жить конституци...   \n",
       "2  минприроды обсуждать введение платный посещени...   \n",
       "3  heroes три запрещать сша изза отсутствие транс...   \n",
       "4  подмосковный черноголовка строиться частный тю...   \n",
       "5  немец попросить российский вицепремьера гордее...   \n",
       "6              космонавт леонов подарить дом флорида   \n",
       "7  генерал участвовать расстрел белый дом москва ...   \n",
       "8  митинг поддержка александр лукашенко выходить ...   \n",
       "9  следующий правительство швейцария набирать объ...   \n",
       "\n",
       "                                               texts              date  \\\n",
       "0  британский министерство информация принимать д...   Октябрь 7, 2020   \n",
       "1  несмотря отрицательный результат голосование о...      Июль 3, 2020   \n",
       "2  специалист минприроды обсуждать коллега мвд мч...   Декабрь 2, 2019   \n",
       "3  онлайндистрибьютер компьютерный игра включая s...   Февраль 1, 2020   \n",
       "4  сми обсуждаться инициатива создание россия час...   Ноябрь 21, 2019   \n",
       "5  российский вицепремьерминистр алексей гордеев ...  Февраль 15, 2019   \n",
       "6  сша структура связывать космический центр кенн...      Июль 4, 2019   \n",
       "7  отставной генералмайор василий желдыбин участв...   Ноябрь 26, 2020   \n",
       "8  согласованный акция поддержка результат презид...   Август 16, 2020   \n",
       "9  заседание федеральный совет швейцария принимат...   Ноябрь 20, 2018   \n",
       "\n",
       "        tag                                       title_vector  \\\n",
       "0   society  [0, 0, 0, 0, 0, 0, 0, 0, 0, 0, 0, 0, 0, 0, 0, ...   \n",
       "1   society  [0, 0, 0, 0, 0, 0, 0, 0, 0, 0, 0, 0, 0, 0, 0, ...   \n",
       "2   society  [0, 0, 0, 0, 0, 0, 0, 0, 0, 0, 0, 0, 0, 0, 0, ...   \n",
       "3   society  [0, 0, 0, 0, 0, 0, 0, 0, 0, 0, 0, 0, 0, 0, 0, ...   \n",
       "4   society  [0, 0, 0, 0, 0, 0, 0, 0, 0, 0, 0, 0, 0, 0, 0, ...   \n",
       "5  politics  [0, 0, 0, 0, 0, 0, 0, 0, 0, 0, 0, 0, 0, 0, 0, ...   \n",
       "6  politics  [0, 0, 0, 0, 0, 0, 0, 0, 0, 0, 0, 0, 0, 0, 0, ...   \n",
       "7  politics  [0, 0, 0, 0, 0, 0, 0, 0, 0, 0, 0, 0, 0, 0, 0, ...   \n",
       "8   society  [0, 0, 0, 0, 0, 0, 0, 0, 0, 0, 0, 0, 0, 0, 0, ...   \n",
       "9  politics  [0, 0, 0, 0, 0, 0, 0, 0, 0, 0, 0, 0, 0, 0, 0, ...   \n",
       "\n",
       "                                        texts_vector  \n",
       "0  [0, 0, 0, 0, 0, 0, 0, 0, 0, 0, 0, 0, 0, 0, 0, ...  \n",
       "1  [0, 0, 0, 0, 0, 0, 0, 0, 0, 0, 0, 0, 0, 0, 0, ...  \n",
       "2  [0, 0, 0, 0, 0, 0, 0, 0, 0, 0, 0, 0, 0, 0, 0, ...  \n",
       "3  [0, 0, 0, 0, 0, 0, 0, 0, 0, 0, 0, 0, 0, 0, 0, ...  \n",
       "4  [0, 0, 0, 0, 0, 0, 0, 0, 0, 0, 0, 0, 0, 0, 0, ...  \n",
       "5  [0, 0, 0, 0, 0, 0, 0, 0, 0, 0, 0, 0, 0, 0, 0, ...  \n",
       "6  [0, 0, 0, 0, 0, 0, 0, 0, 0, 0, 0, 0, 0, 0, 0, ...  \n",
       "7  [0, 0, 0, 0, 0, 0, 0, 0, 0, 0, 0, 0, 0, 0, 0, ...  \n",
       "8  [0, 0, 0, 0, 0, 0, 0, 0, 0, 0, 0, 0, 0, 0, 0, ...  \n",
       "9  [0, 0, 0, 0, 0, 0, 0, 0, 0, 0, 0, 0, 0, 0, 0, ...  "
      ]
     },
     "execution_count": 2,
     "metadata": {},
     "output_type": "execute_result"
    }
   ],
   "source": [
    "data.head(10)"
   ]
  },
  {
   "cell_type": "code",
   "execution_count": 3,
   "metadata": {},
   "outputs": [
    {
     "data": {
      "text/plain": [
       "society      3160\n",
       "politics     1282\n",
       "economics     278\n",
       "science       264\n",
       "books           9\n",
       "Name: tag, dtype: int64"
      ]
     },
     "execution_count": 3,
     "metadata": {},
     "output_type": "execute_result"
    }
   ],
   "source": [
    "data['tag'].value_counts()"
   ]
  },
  {
   "cell_type": "markdown",
   "metadata": {},
   "source": [
    "# Titles"
   ]
  },
  {
   "cell_type": "code",
   "execution_count": 5,
   "metadata": {},
   "outputs": [
    {
     "data": {
      "text/html": [
       "<div>\n",
       "<style scoped>\n",
       "    .dataframe tbody tr th:only-of-type {\n",
       "        vertical-align: middle;\n",
       "    }\n",
       "\n",
       "    .dataframe tbody tr th {\n",
       "        vertical-align: top;\n",
       "    }\n",
       "\n",
       "    .dataframe thead th {\n",
       "        text-align: right;\n",
       "    }\n",
       "</style>\n",
       "<table border=\"1\" class=\"dataframe\">\n",
       "  <thead>\n",
       "    <tr style=\"text-align: right;\">\n",
       "      <th></th>\n",
       "      <th>title</th>\n",
       "      <th>texts</th>\n",
       "      <th>date</th>\n",
       "      <th>tag</th>\n",
       "      <th>title_vector</th>\n",
       "      <th>texts_vector</th>\n",
       "    </tr>\n",
       "  </thead>\n",
       "  <tbody>\n",
       "    <tr>\n",
       "      <th>0</th>\n",
       "      <td>британский сми запрещать писать новость мужчин...</td>\n",
       "      <td>британский министерство информация принимать д...</td>\n",
       "      <td>Октябрь 7, 2020</td>\n",
       "      <td>0</td>\n",
       "      <td>[0, 0, 0, 0, 0, 0, 0, 0, 0, 0, 0, 0, 0, 0, 0, ...</td>\n",
       "      <td>[0, 0, 0, 0, 0, 0, 0, 0, 0, 0, 0, 0, 0, 0, 0, ...</td>\n",
       "    </tr>\n",
       "    <tr>\n",
       "      <th>1</th>\n",
       "      <td>ненецкий автономный округ быть жить конституци...</td>\n",
       "      <td>несмотря отрицательный результат голосование о...</td>\n",
       "      <td>Июль 3, 2020</td>\n",
       "      <td>0</td>\n",
       "      <td>[0, 0, 0, 0, 0, 0, 0, 0, 0, 0, 0, 0, 0, 0, 0, ...</td>\n",
       "      <td>[0, 0, 0, 0, 0, 0, 0, 0, 0, 0, 0, 0, 0, 0, 0, ...</td>\n",
       "    </tr>\n",
       "    <tr>\n",
       "      <th>2</th>\n",
       "      <td>минприроды обсуждать введение платный посещени...</td>\n",
       "      <td>специалист минприроды обсуждать коллега мвд мч...</td>\n",
       "      <td>Декабрь 2, 2019</td>\n",
       "      <td>0</td>\n",
       "      <td>[0, 0, 0, 0, 0, 0, 0, 0, 0, 0, 0, 0, 0, 0, 0, ...</td>\n",
       "      <td>[0, 0, 0, 0, 0, 0, 0, 0, 0, 0, 0, 0, 0, 0, 0, ...</td>\n",
       "    </tr>\n",
       "    <tr>\n",
       "      <th>3</th>\n",
       "      <td>heroes три запрещать сша изза отсутствие транс...</td>\n",
       "      <td>онлайндистрибьютер компьютерный игра включая s...</td>\n",
       "      <td>Февраль 1, 2020</td>\n",
       "      <td>0</td>\n",
       "      <td>[0, 0, 0, 0, 0, 0, 0, 0, 0, 0, 0, 0, 0, 0, 0, ...</td>\n",
       "      <td>[0, 0, 0, 0, 0, 0, 0, 0, 0, 0, 0, 0, 0, 0, 0, ...</td>\n",
       "    </tr>\n",
       "    <tr>\n",
       "      <th>4</th>\n",
       "      <td>подмосковный черноголовка строиться частный тю...</td>\n",
       "      <td>сми обсуждаться инициатива создание россия час...</td>\n",
       "      <td>Ноябрь 21, 2019</td>\n",
       "      <td>0</td>\n",
       "      <td>[0, 0, 0, 0, 0, 0, 0, 0, 0, 0, 0, 0, 0, 0, 0, ...</td>\n",
       "      <td>[0, 0, 0, 0, 0, 0, 0, 0, 0, 0, 0, 0, 0, 0, 0, ...</td>\n",
       "    </tr>\n",
       "    <tr>\n",
       "      <th>5</th>\n",
       "      <td>немец попросить российский вицепремьера гордее...</td>\n",
       "      <td>российский вицепремьерминистр алексей гордеев ...</td>\n",
       "      <td>Февраль 15, 2019</td>\n",
       "      <td>1</td>\n",
       "      <td>[0, 0, 0, 0, 0, 0, 0, 0, 0, 0, 0, 0, 0, 0, 0, ...</td>\n",
       "      <td>[0, 0, 0, 0, 0, 0, 0, 0, 0, 0, 0, 0, 0, 0, 0, ...</td>\n",
       "    </tr>\n",
       "    <tr>\n",
       "      <th>6</th>\n",
       "      <td>космонавт леонов подарить дом флорида</td>\n",
       "      <td>сша структура связывать космический центр кенн...</td>\n",
       "      <td>Июль 4, 2019</td>\n",
       "      <td>1</td>\n",
       "      <td>[0, 0, 0, 0, 0, 0, 0, 0, 0, 0, 0, 0, 0, 0, 0, ...</td>\n",
       "      <td>[0, 0, 0, 0, 0, 0, 0, 0, 0, 0, 0, 0, 0, 0, 0, ...</td>\n",
       "    </tr>\n",
       "    <tr>\n",
       "      <th>7</th>\n",
       "      <td>генерал участвовать расстрел белый дом москва ...</td>\n",
       "      <td>отставной генералмайор василий желдыбин участв...</td>\n",
       "      <td>Ноябрь 26, 2020</td>\n",
       "      <td>1</td>\n",
       "      <td>[0, 0, 0, 0, 0, 0, 0, 0, 0, 0, 0, 0, 0, 0, 0, ...</td>\n",
       "      <td>[0, 0, 0, 0, 0, 0, 0, 0, 0, 0, 0, 0, 0, 0, 0, ...</td>\n",
       "    </tr>\n",
       "    <tr>\n",
       "      <th>8</th>\n",
       "      <td>митинг поддержка александр лукашенко выходить ...</td>\n",
       "      <td>согласованный акция поддержка результат презид...</td>\n",
       "      <td>Август 16, 2020</td>\n",
       "      <td>0</td>\n",
       "      <td>[0, 0, 0, 0, 0, 0, 0, 0, 0, 0, 0, 0, 0, 0, 0, ...</td>\n",
       "      <td>[0, 0, 0, 0, 0, 0, 0, 0, 0, 0, 0, 0, 0, 0, 0, ...</td>\n",
       "    </tr>\n",
       "    <tr>\n",
       "      <th>9</th>\n",
       "      <td>следующий правительство швейцария набирать объ...</td>\n",
       "      <td>заседание федеральный совет швейцария принимат...</td>\n",
       "      <td>Ноябрь 20, 2018</td>\n",
       "      <td>1</td>\n",
       "      <td>[0, 0, 0, 0, 0, 0, 0, 0, 0, 0, 0, 0, 0, 0, 0, ...</td>\n",
       "      <td>[0, 0, 0, 0, 0, 0, 0, 0, 0, 0, 0, 0, 0, 0, 0, ...</td>\n",
       "    </tr>\n",
       "  </tbody>\n",
       "</table>\n",
       "</div>"
      ],
      "text/plain": [
       "                                               title  \\\n",
       "0  британский сми запрещать писать новость мужчин...   \n",
       "1  ненецкий автономный округ быть жить конституци...   \n",
       "2  минприроды обсуждать введение платный посещени...   \n",
       "3  heroes три запрещать сша изза отсутствие транс...   \n",
       "4  подмосковный черноголовка строиться частный тю...   \n",
       "5  немец попросить российский вицепремьера гордее...   \n",
       "6              космонавт леонов подарить дом флорида   \n",
       "7  генерал участвовать расстрел белый дом москва ...   \n",
       "8  митинг поддержка александр лукашенко выходить ...   \n",
       "9  следующий правительство швейцария набирать объ...   \n",
       "\n",
       "                                               texts              date  tag  \\\n",
       "0  британский министерство информация принимать д...   Октябрь 7, 2020    0   \n",
       "1  несмотря отрицательный результат голосование о...      Июль 3, 2020    0   \n",
       "2  специалист минприроды обсуждать коллега мвд мч...   Декабрь 2, 2019    0   \n",
       "3  онлайндистрибьютер компьютерный игра включая s...   Февраль 1, 2020    0   \n",
       "4  сми обсуждаться инициатива создание россия час...   Ноябрь 21, 2019    0   \n",
       "5  российский вицепремьерминистр алексей гордеев ...  Февраль 15, 2019    1   \n",
       "6  сша структура связывать космический центр кенн...      Июль 4, 2019    1   \n",
       "7  отставной генералмайор василий желдыбин участв...   Ноябрь 26, 2020    1   \n",
       "8  согласованный акция поддержка результат презид...   Август 16, 2020    0   \n",
       "9  заседание федеральный совет швейцария принимат...   Ноябрь 20, 2018    1   \n",
       "\n",
       "                                        title_vector  \\\n",
       "0  [0, 0, 0, 0, 0, 0, 0, 0, 0, 0, 0, 0, 0, 0, 0, ...   \n",
       "1  [0, 0, 0, 0, 0, 0, 0, 0, 0, 0, 0, 0, 0, 0, 0, ...   \n",
       "2  [0, 0, 0, 0, 0, 0, 0, 0, 0, 0, 0, 0, 0, 0, 0, ...   \n",
       "3  [0, 0, 0, 0, 0, 0, 0, 0, 0, 0, 0, 0, 0, 0, 0, ...   \n",
       "4  [0, 0, 0, 0, 0, 0, 0, 0, 0, 0, 0, 0, 0, 0, 0, ...   \n",
       "5  [0, 0, 0, 0, 0, 0, 0, 0, 0, 0, 0, 0, 0, 0, 0, ...   \n",
       "6  [0, 0, 0, 0, 0, 0, 0, 0, 0, 0, 0, 0, 0, 0, 0, ...   \n",
       "7  [0, 0, 0, 0, 0, 0, 0, 0, 0, 0, 0, 0, 0, 0, 0, ...   \n",
       "8  [0, 0, 0, 0, 0, 0, 0, 0, 0, 0, 0, 0, 0, 0, 0, ...   \n",
       "9  [0, 0, 0, 0, 0, 0, 0, 0, 0, 0, 0, 0, 0, 0, 0, ...   \n",
       "\n",
       "                                        texts_vector  \n",
       "0  [0, 0, 0, 0, 0, 0, 0, 0, 0, 0, 0, 0, 0, 0, 0, ...  \n",
       "1  [0, 0, 0, 0, 0, 0, 0, 0, 0, 0, 0, 0, 0, 0, 0, ...  \n",
       "2  [0, 0, 0, 0, 0, 0, 0, 0, 0, 0, 0, 0, 0, 0, 0, ...  \n",
       "3  [0, 0, 0, 0, 0, 0, 0, 0, 0, 0, 0, 0, 0, 0, 0, ...  \n",
       "4  [0, 0, 0, 0, 0, 0, 0, 0, 0, 0, 0, 0, 0, 0, 0, ...  \n",
       "5  [0, 0, 0, 0, 0, 0, 0, 0, 0, 0, 0, 0, 0, 0, 0, ...  \n",
       "6  [0, 0, 0, 0, 0, 0, 0, 0, 0, 0, 0, 0, 0, 0, 0, ...  \n",
       "7  [0, 0, 0, 0, 0, 0, 0, 0, 0, 0, 0, 0, 0, 0, 0, ...  \n",
       "8  [0, 0, 0, 0, 0, 0, 0, 0, 0, 0, 0, 0, 0, 0, 0, ...  \n",
       "9  [0, 0, 0, 0, 0, 0, 0, 0, 0, 0, 0, 0, 0, 0, 0, ...  "
      ]
     },
     "execution_count": 5,
     "metadata": {},
     "output_type": "execute_result"
    }
   ],
   "source": [
    "# encode tag\n",
    "dic = {'society' : 0, 'politics' : 1, 'economics' : 2, 'science' : 3, 'books' : 4}\n",
    "new_tags = []\n",
    "for item in data.iterrows():\n",
    "    new_tags.append(dic[item[1][3]])\n",
    "data['tag'] = new_tags\n",
    "data.head(10)"
   ]
  },
  {
   "cell_type": "code",
   "execution_count": 6,
   "metadata": {},
   "outputs": [],
   "source": [
    "X = [item[1][4] for item in data.iterrows()]\n",
    "y = data['tag']"
   ]
  },
  {
   "cell_type": "code",
   "execution_count": 9,
   "metadata": {},
   "outputs": [],
   "source": [
    "from sklearn.neighbors import KNeighborsClassifier\n",
    "from sklearn.model_selection import train_test_split\n",
    "from sklearn.model_selection import RandomizedSearchCV\n",
    "from sklearn.metrics import f1_score, make_scorer\n",
    "from sklearn.metrics import classification_report, confusion_matrix, recall_score, precision_score\n",
    "from sklearn.metrics import accuracy_score, roc_auc_score"
   ]
  },
  {
   "cell_type": "code",
   "execution_count": 8,
   "metadata": {},
   "outputs": [],
   "source": [
    "X_train, X_test, y_train, y_test = train_test_split(X, y, test_size=0.25)"
   ]
  },
  {
   "cell_type": "markdown",
   "metadata": {},
   "source": [
    "## KNN"
   ]
  },
  {
   "cell_type": "code",
   "execution_count": 10,
   "metadata": {},
   "outputs": [
    {
     "name": "stdout",
     "output_type": "stream",
     "text": [
      "Fitting 3 folds for each of 50 candidates, totalling 150 fits\n"
     ]
    },
    {
     "name": "stderr",
     "output_type": "stream",
     "text": [
      "[Parallel(n_jobs=-1)]: Using backend LokyBackend with 8 concurrent workers.\n",
      "[Parallel(n_jobs=-1)]: Done  16 tasks      | elapsed:   53.9s\n",
      "[Parallel(n_jobs=-1)]: Done 112 tasks      | elapsed:  6.1min\n",
      "[Parallel(n_jobs=-1)]: Done 150 out of 150 | elapsed:  8.1min finished\n"
     ]
    }
   ],
   "source": [
    "param_distributions = {'n_neighbors': range(10, 501, 10)}\n",
    "f1 = make_scorer(f1_score, average='weighted')  # for scoring param\n",
    "rand_knn = RandomizedSearchCV(estimator=KNeighborsClassifier(),\n",
    "                              param_distributions=param_distributions,\n",
    "                              cv=3,\n",
    "                              verbose=3,\n",
    "                              n_iter = 50,\n",
    "                              n_jobs=-1,\n",
    "                              scoring=f1)\n",
    "rand_knn.fit(X_train, y_train)\n",
    "y_pred = rand_knn.predict(X_test)\n",
    "y_prob = rand_knn.predict_proba(X_test)"
   ]
  },
  {
   "cell_type": "code",
   "execution_count": 11,
   "metadata": {},
   "outputs": [
    {
     "data": {
      "text/plain": [
       "KNeighborsClassifier(n_neighbors=10)"
      ]
     },
     "execution_count": 11,
     "metadata": {},
     "output_type": "execute_result"
    }
   ],
   "source": [
    "rand_knn.best_estimator_"
   ]
  },
  {
   "cell_type": "code",
   "execution_count": 25,
   "metadata": {},
   "outputs": [
    {
     "name": "stdout",
     "output_type": "stream",
     "text": [
      "Accuracy: 0.6533226581265013\n",
      "Recall: 0.6533226581265013\n",
      "Precision: 0.6777179398241719\n",
      "F1: 0.5312474707667523\n",
      "ROC AUC: 0.6386794919210401\n",
      "Confusion matrix:\n",
      " [[798   2   0   0   0]\n",
      " [299  17   0   0   0]\n",
      " [ 70   1   0   0   0]\n",
      " [ 57   0   0   1   0]\n",
      " [  4   0   0   0   0]]\n",
      "              precision    recall  f1-score   support\n",
      "\n",
      "           0       0.65      1.00      0.79       800\n",
      "           1       0.85      0.05      0.10       316\n",
      "           2       0.00      0.00      0.00        71\n",
      "           3       1.00      0.02      0.03        58\n",
      "           4       0.00      0.00      0.00         4\n",
      "\n",
      "    accuracy                           0.65      1249\n",
      "   macro avg       0.50      0.21      0.18      1249\n",
      "weighted avg       0.68      0.65      0.53      1249\n",
      "\n"
     ]
    },
    {
     "name": "stderr",
     "output_type": "stream",
     "text": [
      "C:\\Users\\semav\\anaconda3\\lib\\site-packages\\sklearn\\metrics\\_classification.py:1221: UndefinedMetricWarning: Precision is ill-defined and being set to 0.0 in labels with no predicted samples. Use `zero_division` parameter to control this behavior.\n",
      "  _warn_prf(average, modifier, msg_start, len(result))\n",
      "C:\\Users\\semav\\anaconda3\\lib\\site-packages\\sklearn\\metrics\\_classification.py:1221: UndefinedMetricWarning: Precision and F-score are ill-defined and being set to 0.0 in labels with no predicted samples. Use `zero_division` parameter to control this behavior.\n",
      "  _warn_prf(average, modifier, msg_start, len(result))\n"
     ]
    }
   ],
   "source": [
    "print(\"Accuracy:\", accuracy_score(y_test, y_pred))\n",
    "print(\"Recall:\", recall_score(y_test, y_pred, average = 'weighted'))\n",
    "print(\"Precision:\", precision_score(y_test, y_pred, average = 'weighted'))\n",
    "print(\"F1:\", f1_score(y_test, y_pred, average='weighted'))\n",
    "print(\"ROC AUC:\", roc_auc_score(y_test, y_prob, average = 'weighted', multi_class='ovo'))\n",
    "print(\"Confusion matrix:\\n\", confusion_matrix(y_test, y_pred))\n",
    "print(classification_report(y_test, y_pred))"
   ]
  },
  {
   "cell_type": "markdown",
   "metadata": {},
   "source": [
    "## AdaBoost"
   ]
  },
  {
   "cell_type": "code",
   "execution_count": 27,
   "metadata": {},
   "outputs": [],
   "source": [
    "from sklearn.ensemble import AdaBoostClassifier\n",
    "from sklearn.tree import DecisionTreeClassifier"
   ]
  },
  {
   "cell_type": "code",
   "execution_count": 28,
   "metadata": {},
   "outputs": [
    {
     "name": "stdout",
     "output_type": "stream",
     "text": [
      "Fitting 2 folds for each of 50 candidates, totalling 100 fits\n"
     ]
    },
    {
     "name": "stderr",
     "output_type": "stream",
     "text": [
      "[Parallel(n_jobs=-1)]: Using backend LokyBackend with 8 concurrent workers.\n",
      "[Parallel(n_jobs=-1)]: Done  16 tasks      | elapsed:  1.5min\n",
      "[Parallel(n_jobs=-1)]: Done 100 out of 100 | elapsed:  6.5min finished\n"
     ]
    }
   ],
   "source": [
    "classifier = AdaBoostClassifier(base_estimator=DecisionTreeClassifier(max_depth=1))\n",
    "param_grid = {\n",
    "    'n_estimators': range(10, 301, 20),\n",
    "    'learning_rate': [0.1, 0.25, 0.5, 0.75, 1]\n",
    "}\n",
    "\n",
    "randdAdaBoost = RandomizedSearchCV(estimator=classifier,\n",
    "                                   param_distributions=param_grid,\n",
    "                                   cv=2,\n",
    "                                   n_iter=50,\n",
    "                                   verbose=3,\n",
    "                                   scoring=f1,\n",
    "                                   n_jobs=-1)\n",
    "\n",
    "randdAdaBoost.fit(X_train, y_train)\n",
    "y_pred = randdAdaBoost.predict(X_test)\n",
    "y_prob = randdAdaBoost.predict_proba(X_test)"
   ]
  },
  {
   "cell_type": "code",
   "execution_count": 29,
   "metadata": {},
   "outputs": [
    {
     "data": {
      "text/plain": [
       "AdaBoostClassifier(base_estimator=DecisionTreeClassifier(max_depth=1),\n",
       "                   learning_rate=0.75, n_estimators=210)"
      ]
     },
     "execution_count": 29,
     "metadata": {},
     "output_type": "execute_result"
    }
   ],
   "source": [
    "randdAdaBoost.best_estimator_"
   ]
  },
  {
   "cell_type": "code",
   "execution_count": 30,
   "metadata": {},
   "outputs": [
    {
     "name": "stdout",
     "output_type": "stream",
     "text": [
      "Accuracy: 0.6317053642914331\n",
      "Recall: 0.6317053642914331\n",
      "Precision: 0.6350265459175864\n",
      "F1: 0.5828783290572308\n",
      "ROC AUC: 0.5966756253557508\n",
      "Confusion matrix:\n",
      " [[709  30  59   2   0]\n",
      " [231  53  31   1   0]\n",
      " [ 49   1  20   1   0]\n",
      " [ 44   1   6   7   0]\n",
      " [  4   0   0   0   0]]\n",
      "              precision    recall  f1-score   support\n",
      "\n",
      "           0       0.68      0.89      0.77       800\n",
      "           1       0.62      0.17      0.26       316\n",
      "           2       0.17      0.28      0.21        71\n",
      "           3       0.64      0.12      0.20        58\n",
      "           4       0.00      0.00      0.00         4\n",
      "\n",
      "    accuracy                           0.63      1249\n",
      "   macro avg       0.42      0.29      0.29      1249\n",
      "weighted avg       0.64      0.63      0.58      1249\n",
      "\n"
     ]
    },
    {
     "name": "stderr",
     "output_type": "stream",
     "text": [
      "C:\\Users\\semav\\anaconda3\\lib\\site-packages\\sklearn\\metrics\\_classification.py:1221: UndefinedMetricWarning: Precision is ill-defined and being set to 0.0 in labels with no predicted samples. Use `zero_division` parameter to control this behavior.\n",
      "  _warn_prf(average, modifier, msg_start, len(result))\n",
      "C:\\Users\\semav\\anaconda3\\lib\\site-packages\\sklearn\\metrics\\_classification.py:1221: UndefinedMetricWarning: Precision and F-score are ill-defined and being set to 0.0 in labels with no predicted samples. Use `zero_division` parameter to control this behavior.\n",
      "  _warn_prf(average, modifier, msg_start, len(result))\n"
     ]
    }
   ],
   "source": [
    "print(\"Accuracy:\", accuracy_score(y_test, y_pred))\n",
    "print(\"Recall:\", recall_score(y_test, y_pred, average = 'weighted'))\n",
    "print(\"Precision:\", precision_score(y_test, y_pred, average = 'weighted'))\n",
    "print(\"F1:\", f1_score(y_test, y_pred, average='weighted'))\n",
    "print(\"ROC AUC:\", roc_auc_score(y_test, y_prob, average = 'weighted', multi_class='ovo'))\n",
    "print(\"Confusion matrix:\\n\", confusion_matrix(y_test, y_pred))\n",
    "print(classification_report(y_test, y_pred))"
   ]
  },
  {
   "cell_type": "markdown",
   "metadata": {},
   "source": [
    "## SVM"
   ]
  },
  {
   "cell_type": "code",
   "execution_count": 31,
   "metadata": {},
   "outputs": [],
   "source": [
    "from sklearn.svm import SVC"
   ]
  },
  {
   "cell_type": "code",
   "execution_count": 32,
   "metadata": {},
   "outputs": [
    {
     "name": "stdout",
     "output_type": "stream",
     "text": [
      "Fitting 2 folds for each of 10 candidates, totalling 20 fits\n"
     ]
    },
    {
     "name": "stderr",
     "output_type": "stream",
     "text": [
      "[Parallel(n_jobs=-1)]: Using backend LokyBackend with 8 concurrent workers.\n",
      "[Parallel(n_jobs=-1)]: Done  20 out of  20 | elapsed: 10.4min finished\n"
     ]
    }
   ],
   "source": [
    "svcclassifier = SVC(probability=True)\n",
    "param_grid = {\n",
    "    'kernel': ['linear', 'poly', 'rbf', 'sigmoid'],\n",
    "    'degree': [2, 3, 4, 5, 6, 7]\n",
    "}\n",
    "\n",
    "rand_svc = RandomizedSearchCV(estimator=svcclassifier,\n",
    "                              param_distributions=param_grid,\n",
    "                              scoring=f1,\n",
    "                              n_jobs=-1,\n",
    "                              cv=2,\n",
    "                              verbose=1)\n",
    "\n",
    "rand_svc.fit(X_train, y_train)\n",
    "\n",
    "y_pred = rand_svc.predict(X_test)\n",
    "y_proba = rand_svc.predict_proba(X_test)"
   ]
  },
  {
   "cell_type": "code",
   "execution_count": 33,
   "metadata": {},
   "outputs": [
    {
     "data": {
      "text/plain": [
       "SVC(degree=2, kernel='sigmoid', probability=True)"
      ]
     },
     "execution_count": 33,
     "metadata": {},
     "output_type": "execute_result"
    }
   ],
   "source": [
    "rand_svc.best_estimator_"
   ]
  },
  {
   "cell_type": "code",
   "execution_count": 34,
   "metadata": {},
   "outputs": [
    {
     "name": "stdout",
     "output_type": "stream",
     "text": [
      "Accuracy: 0.734187349879904\n",
      "Recall: 0.734187349879904\n",
      "Precision: 0.7286755765224289\n",
      "F1: 0.6978715959446508\n",
      "ROC AUC: 0.5966756253557508\n",
      "Confusion matrix:\n",
      " [[743  53   0   4   0]\n",
      " [156 158   2   0   0]\n",
      " [ 50  12   9   0   0]\n",
      " [ 49   2   0   7   0]\n",
      " [  4   0   0   0   0]]\n",
      "              precision    recall  f1-score   support\n",
      "\n",
      "           0       0.74      0.93      0.82       800\n",
      "           1       0.70      0.50      0.58       316\n",
      "           2       0.82      0.13      0.22        71\n",
      "           3       0.64      0.12      0.20        58\n",
      "           4       0.00      0.00      0.00         4\n",
      "\n",
      "    accuracy                           0.73      1249\n",
      "   macro avg       0.58      0.34      0.37      1249\n",
      "weighted avg       0.73      0.73      0.70      1249\n",
      "\n"
     ]
    },
    {
     "name": "stderr",
     "output_type": "stream",
     "text": [
      "C:\\Users\\semav\\anaconda3\\lib\\site-packages\\sklearn\\metrics\\_classification.py:1221: UndefinedMetricWarning: Precision is ill-defined and being set to 0.0 in labels with no predicted samples. Use `zero_division` parameter to control this behavior.\n",
      "  _warn_prf(average, modifier, msg_start, len(result))\n",
      "C:\\Users\\semav\\anaconda3\\lib\\site-packages\\sklearn\\metrics\\_classification.py:1221: UndefinedMetricWarning: Precision and F-score are ill-defined and being set to 0.0 in labels with no predicted samples. Use `zero_division` parameter to control this behavior.\n",
      "  _warn_prf(average, modifier, msg_start, len(result))\n"
     ]
    }
   ],
   "source": [
    "print(\"Accuracy:\", accuracy_score(y_test, y_pred))\n",
    "print(\"Recall:\", recall_score(y_test, y_pred, average = 'weighted'))\n",
    "print(\"Precision:\", precision_score(y_test, y_pred, average = 'weighted'))\n",
    "print(\"F1:\", f1_score(y_test, y_pred, average='weighted'))\n",
    "print(\"ROC AUC:\", roc_auc_score(y_test, y_prob, average = 'weighted', multi_class='ovo'))\n",
    "print(\"Confusion matrix:\\n\", confusion_matrix(y_test, y_pred))\n",
    "print(classification_report(y_test, y_pred))"
   ]
  },
  {
   "cell_type": "markdown",
   "metadata": {},
   "source": [
    "## LightGBM"
   ]
  },
  {
   "cell_type": "code",
   "execution_count": 37,
   "metadata": {},
   "outputs": [
    {
     "name": "stdout",
     "output_type": "stream",
     "text": [
      "Collecting lightgbm\n",
      "  Using cached lightgbm-3.1.1-py2.py3-none-win_amd64.whl (754 kB)\n",
      "Requirement already satisfied: scipy in c:\\users\\semav\\anaconda3\\lib\\site-packages (from lightgbm) (1.5.2)\n",
      "Requirement already satisfied: wheel in c:\\users\\semav\\anaconda3\\lib\\site-packages (from lightgbm) (0.35.1)\n",
      "Requirement already satisfied: numpy in c:\\users\\semav\\anaconda3\\lib\\site-packages (from lightgbm) (1.19.2)\n",
      "Requirement already satisfied: scikit-learn!=0.22.0 in c:\\users\\semav\\anaconda3\\lib\\site-packages (from lightgbm) (0.23.2)\n",
      "Requirement already satisfied: threadpoolctl>=2.0.0 in c:\\users\\semav\\anaconda3\\lib\\site-packages (from scikit-learn!=0.22.0->lightgbm) (2.1.0)\n",
      "Requirement already satisfied: joblib>=0.11 in c:\\users\\semav\\anaconda3\\lib\\site-packages (from scikit-learn!=0.22.0->lightgbm) (0.17.0)\n",
      "Installing collected packages: lightgbm\n",
      "Successfully installed lightgbm-3.1.1\n"
     ]
    }
   ],
   "source": [
    "!pip install lightgbm"
   ]
  },
  {
   "cell_type": "code",
   "execution_count": 38,
   "metadata": {},
   "outputs": [],
   "source": [
    "from lightgbm import LGBMClassifier"
   ]
  },
  {
   "cell_type": "code",
   "execution_count": 39,
   "metadata": {},
   "outputs": [
    {
     "name": "stdout",
     "output_type": "stream",
     "text": [
      "Fitting 2 folds for each of 50 candidates, totalling 100 fits\n"
     ]
    },
    {
     "name": "stderr",
     "output_type": "stream",
     "text": [
      "[Parallel(n_jobs=-1)]: Using backend LokyBackend with 8 concurrent workers.\n",
      "[Parallel(n_jobs=-1)]: Done  16 tasks      | elapsed:    8.4s\n",
      "[Parallel(n_jobs=-1)]: Done 100 out of 100 | elapsed:   49.0s finished\n"
     ]
    }
   ],
   "source": [
    "gbm = LGBMClassifier()\n",
    "param_grid = {\n",
    "    'n_estimators': range(10, 301, 20),\n",
    "    'learning_rate': [0.05, 0.075, 0.1, 0.25, 0.5, 0.75, 1]\n",
    "}\n",
    "randgbm = RandomizedSearchCV(estimator=gbm,\n",
    "                             param_distributions=param_grid,\n",
    "                             cv=2,\n",
    "                             verbose=3,\n",
    "                             n_iter=50,\n",
    "                             scoring=f1,\n",
    "                             n_jobs=-1)\n",
    "randgbm.fit(X_train, y_train)\n",
    "y_pred = randdAdaBoost.predict(X_test)\n",
    "y_prob = randdAdaBoost.predict_proba(X_test)"
   ]
  },
  {
   "cell_type": "code",
   "execution_count": 40,
   "metadata": {},
   "outputs": [
    {
     "data": {
      "text/plain": [
       "LGBMClassifier(learning_rate=0.25, n_estimators=10)"
      ]
     },
     "execution_count": 40,
     "metadata": {},
     "output_type": "execute_result"
    }
   ],
   "source": [
    "randgbm.best_estimator_"
   ]
  },
  {
   "cell_type": "code",
   "execution_count": 41,
   "metadata": {},
   "outputs": [
    {
     "name": "stdout",
     "output_type": "stream",
     "text": [
      "Accuracy: 0.6317053642914331\n",
      "Recall: 0.6317053642914331\n",
      "Precision: 0.6350265459175864\n",
      "F1: 0.5828783290572308\n",
      "ROC AUC: 0.5966756253557508\n",
      "Confusion matrix:\n",
      " [[709  30  59   2   0]\n",
      " [231  53  31   1   0]\n",
      " [ 49   1  20   1   0]\n",
      " [ 44   1   6   7   0]\n",
      " [  4   0   0   0   0]]\n",
      "              precision    recall  f1-score   support\n",
      "\n",
      "           0       0.68      0.89      0.77       800\n",
      "           1       0.62      0.17      0.26       316\n",
      "           2       0.17      0.28      0.21        71\n",
      "           3       0.64      0.12      0.20        58\n",
      "           4       0.00      0.00      0.00         4\n",
      "\n",
      "    accuracy                           0.63      1249\n",
      "   macro avg       0.42      0.29      0.29      1249\n",
      "weighted avg       0.64      0.63      0.58      1249\n",
      "\n"
     ]
    },
    {
     "name": "stderr",
     "output_type": "stream",
     "text": [
      "C:\\Users\\semav\\anaconda3\\lib\\site-packages\\sklearn\\metrics\\_classification.py:1221: UndefinedMetricWarning: Precision is ill-defined and being set to 0.0 in labels with no predicted samples. Use `zero_division` parameter to control this behavior.\n",
      "  _warn_prf(average, modifier, msg_start, len(result))\n",
      "C:\\Users\\semav\\anaconda3\\lib\\site-packages\\sklearn\\metrics\\_classification.py:1221: UndefinedMetricWarning: Precision and F-score are ill-defined and being set to 0.0 in labels with no predicted samples. Use `zero_division` parameter to control this behavior.\n",
      "  _warn_prf(average, modifier, msg_start, len(result))\n"
     ]
    }
   ],
   "source": [
    "print(\"Accuracy:\", accuracy_score(y_test, y_pred))\n",
    "print(\"Recall:\", recall_score(y_test, y_pred, average = 'weighted'))\n",
    "print(\"Precision:\", precision_score(y_test, y_pred, average = 'weighted'))\n",
    "print(\"F1:\", f1_score(y_test, y_pred, average='weighted'))\n",
    "print(\"ROC AUC:\", roc_auc_score(y_test, y_prob, average = 'weighted', multi_class='ovo'))\n",
    "print(\"Confusion matrix:\\n\", confusion_matrix(y_test, y_pred))\n",
    "print(classification_report(y_test, y_pred))"
   ]
  },
  {
   "cell_type": "markdown",
   "metadata": {},
   "source": [
    "# Texts"
   ]
  },
  {
   "cell_type": "code",
   "execution_count": 42,
   "metadata": {},
   "outputs": [],
   "source": [
    "X_t = [item[1][5] for item in data.iterrows()]\n",
    "y_t = data['tag']"
   ]
  },
  {
   "cell_type": "code",
   "execution_count": 43,
   "metadata": {},
   "outputs": [],
   "source": [
    "X_train, X_test, y_train, y_test = train_test_split(X,y,test_size=0.25)"
   ]
  },
  {
   "cell_type": "markdown",
   "metadata": {},
   "source": [
    "## KNN"
   ]
  },
  {
   "cell_type": "code",
   "execution_count": 44,
   "metadata": {},
   "outputs": [
    {
     "name": "stdout",
     "output_type": "stream",
     "text": [
      "Fitting 3 folds for each of 50 candidates, totalling 150 fits\n"
     ]
    },
    {
     "name": "stderr",
     "output_type": "stream",
     "text": [
      "[Parallel(n_jobs=-1)]: Using backend LokyBackend with 8 concurrent workers.\n",
      "[Parallel(n_jobs=-1)]: Done  16 tasks      | elapsed:  1.1min\n",
      "[Parallel(n_jobs=-1)]: Done 112 tasks      | elapsed:  7.0min\n",
      "[Parallel(n_jobs=-1)]: Done 150 out of 150 | elapsed:  9.2min finished\n"
     ]
    }
   ],
   "source": [
    "param_distributions = {'n_neighbors': range(10, 501, 10)}\n",
    "f1 = make_scorer(f1_score, average='weighted')  # for scoring param\n",
    "rand_knn_t = RandomizedSearchCV(estimator=KNeighborsClassifier(),\n",
    "                                param_distributions=param_distributions,\n",
    "                                cv=3,\n",
    "                                verbose=3,\n",
    "                                n_iter=50,\n",
    "                                n_jobs=-1,\n",
    "                                scoring=f1)\n",
    "rand_knn_t.fit(X_train, y_train)\n",
    "y_pred_t = rand_knn.predict(X_test)\n",
    "y_prob_t = rand_knn.predict_proba(X_test)"
   ]
  },
  {
   "cell_type": "code",
   "execution_count": 45,
   "metadata": {},
   "outputs": [
    {
     "name": "stdout",
     "output_type": "stream",
     "text": [
      "Accuracy: 0.6581265012009607\n",
      "Recall: 0.6581265012009607\n",
      "Precision: 0.6959988268619802\n",
      "F1: 0.5408186892069651\n",
      "ROC AUC: 0.8267724958091497\n",
      "Confusion matrix:\n",
      " [[799   2   0   0   0]\n",
      " [302  20   0   0   0]\n",
      " [ 58   1   0   0   0]\n",
      " [ 63   0   0   3   0]\n",
      " [  1   0   0   0   0]]\n",
      "              precision    recall  f1-score   support\n",
      "\n",
      "           0       0.65      1.00      0.79       801\n",
      "           1       0.87      0.06      0.12       322\n",
      "           2       0.00      0.00      0.00        59\n",
      "           3       1.00      0.05      0.09        66\n",
      "           4       0.00      0.00      0.00         1\n",
      "\n",
      "    accuracy                           0.66      1249\n",
      "   macro avg       0.50      0.22      0.20      1249\n",
      "weighted avg       0.70      0.66      0.54      1249\n",
      "\n"
     ]
    },
    {
     "name": "stderr",
     "output_type": "stream",
     "text": [
      "C:\\Users\\semav\\anaconda3\\lib\\site-packages\\sklearn\\metrics\\_classification.py:1221: UndefinedMetricWarning: Precision is ill-defined and being set to 0.0 in labels with no predicted samples. Use `zero_division` parameter to control this behavior.\n",
      "  _warn_prf(average, modifier, msg_start, len(result))\n",
      "C:\\Users\\semav\\anaconda3\\lib\\site-packages\\sklearn\\metrics\\_classification.py:1221: UndefinedMetricWarning: Precision and F-score are ill-defined and being set to 0.0 in labels with no predicted samples. Use `zero_division` parameter to control this behavior.\n",
      "  _warn_prf(average, modifier, msg_start, len(result))\n"
     ]
    }
   ],
   "source": [
    "print(\"Accuracy:\", accuracy_score(y_test, y_pred_t))\n",
    "print(\"Recall:\", recall_score(y_test, y_pred_t, average = 'weighted'))\n",
    "print(\"Precision:\", precision_score(y_test, y_pred_t, average = 'weighted'))\n",
    "print(\"F1:\", f1_score(y_test, y_pred_t, average='weighted'))\n",
    "print(\"ROC AUC:\", roc_auc_score(y_test, y_prob_t, average = 'weighted', multi_class='ovo'))\n",
    "print(\"Confusion matrix:\\n\", confusion_matrix(y_test, y_pred_t))\n",
    "print(classification_report(y_test, y_pred_t))"
   ]
  },
  {
   "cell_type": "markdown",
   "metadata": {},
   "source": [
    "## AdaBoost"
   ]
  },
  {
   "cell_type": "code",
   "execution_count": 46,
   "metadata": {},
   "outputs": [
    {
     "name": "stdout",
     "output_type": "stream",
     "text": [
      "Fitting 2 folds for each of 50 candidates, totalling 100 fits\n"
     ]
    },
    {
     "name": "stderr",
     "output_type": "stream",
     "text": [
      "[Parallel(n_jobs=-1)]: Using backend LokyBackend with 8 concurrent workers.\n",
      "[Parallel(n_jobs=-1)]: Done  16 tasks      | elapsed:  1.8min\n",
      "[Parallel(n_jobs=-1)]: Done 100 out of 100 | elapsed:  8.3min finished\n"
     ]
    }
   ],
   "source": [
    "classifier = AdaBoostClassifier(base_estimator=DecisionTreeClassifier(max_depth=1))\n",
    "param_grid = {\n",
    "    'n_estimators': range(10, 301, 20),\n",
    "    'learning_rate': [0.1, 0.25, 0.5, 0.75, 1]\n",
    "}\n",
    "\n",
    "randdAdaBoost_t = RandomizedSearchCV(estimator=classifier,\n",
    "                                   param_distributions=param_grid,\n",
    "                                   cv=2,\n",
    "                                   n_iter=50,\n",
    "                                   verbose=3,\n",
    "                                   scoring=f1,\n",
    "                                   n_jobs=-1)\n",
    "\n",
    "randdAdaBoost_t.fit(X_train, y_train)\n",
    "y_pred_t = randdAdaBoost.predict(X_test)\n",
    "y_prob_t = randdAdaBoost.predict_proba(X_test)"
   ]
  },
  {
   "cell_type": "code",
   "execution_count": 47,
   "metadata": {},
   "outputs": [
    {
     "name": "stdout",
     "output_type": "stream",
     "text": [
      "Accuracy: 0.6581265012009607\n",
      "Recall: 0.6581265012009607\n",
      "Precision: 0.6734629199478142\n",
      "F1: 0.6038145744598363\n",
      "ROC AUC: 0.6145655665158595\n",
      "Confusion matrix:\n",
      " [[735  22  41   3   0]\n",
      " [228  54  39   1   0]\n",
      " [ 32   2  25   0   0]\n",
      " [ 54   0   4   8   0]\n",
      " [  1   0   0   0   0]]\n",
      "              precision    recall  f1-score   support\n",
      "\n",
      "           0       0.70      0.92      0.79       801\n",
      "           1       0.69      0.17      0.27       322\n",
      "           2       0.23      0.42      0.30        59\n",
      "           3       0.67      0.12      0.21        66\n",
      "           4       0.00      0.00      0.00         1\n",
      "\n",
      "    accuracy                           0.66      1249\n",
      "   macro avg       0.46      0.33      0.31      1249\n",
      "weighted avg       0.67      0.66      0.60      1249\n",
      "\n"
     ]
    },
    {
     "name": "stderr",
     "output_type": "stream",
     "text": [
      "C:\\Users\\semav\\anaconda3\\lib\\site-packages\\sklearn\\metrics\\_classification.py:1221: UndefinedMetricWarning: Precision is ill-defined and being set to 0.0 in labels with no predicted samples. Use `zero_division` parameter to control this behavior.\n",
      "  _warn_prf(average, modifier, msg_start, len(result))\n",
      "C:\\Users\\semav\\anaconda3\\lib\\site-packages\\sklearn\\metrics\\_classification.py:1221: UndefinedMetricWarning: Precision and F-score are ill-defined and being set to 0.0 in labels with no predicted samples. Use `zero_division` parameter to control this behavior.\n",
      "  _warn_prf(average, modifier, msg_start, len(result))\n"
     ]
    }
   ],
   "source": [
    "print(\"Accuracy:\", accuracy_score(y_test, y_pred_t))\n",
    "print(\"Recall:\", recall_score(y_test, y_pred_t, average = 'weighted'))\n",
    "print(\"Precision:\", precision_score(y_test, y_pred_t, average = 'weighted'))\n",
    "print(\"F1:\", f1_score(y_test, y_pred_t, average='weighted'))\n",
    "print(\"ROC AUC:\", roc_auc_score(y_test, y_prob_t, average = 'weighted', multi_class='ovo'))\n",
    "print(\"Confusion matrix:\\n\", confusion_matrix(y_test, y_pred_t))\n",
    "print(classification_report(y_test, y_pred_t))"
   ]
  },
  {
   "cell_type": "markdown",
   "metadata": {},
   "source": [
    "## SVM"
   ]
  },
  {
   "cell_type": "code",
   "execution_count": 48,
   "metadata": {},
   "outputs": [
    {
     "name": "stdout",
     "output_type": "stream",
     "text": [
      "Fitting 2 folds for each of 10 candidates, totalling 20 fits\n"
     ]
    },
    {
     "name": "stderr",
     "output_type": "stream",
     "text": [
      "[Parallel(n_jobs=-1)]: Using backend LokyBackend with 8 concurrent workers.\n",
      "[Parallel(n_jobs=-1)]: Done  20 out of  20 | elapsed:  6.1min finished\n"
     ]
    }
   ],
   "source": [
    "svcclassifier = SVC(probability=True)\n",
    "param_grid = {\n",
    "    'kernel': ['linear', 'poly', 'rbf', 'sigmoid'],\n",
    "    'degree': [2, 3, 4, 5, 6, 7]\n",
    "}\n",
    "\n",
    "rand_svc_t = RandomizedSearchCV(estimator=svcclassifier,\n",
    "                              param_distributions=param_grid,\n",
    "                              scoring=f1,\n",
    "                              n_jobs=-1,\n",
    "                              cv=2,\n",
    "                              verbose=1)\n",
    "\n",
    "rand_svc_t.fit(X_train, y_train)\n",
    "\n",
    "y_pred_t = rand_svc.predict(X_test)\n",
    "y_proba_t = rand_svc.predict_proba(X_test)"
   ]
  },
  {
   "cell_type": "code",
   "execution_count": 49,
   "metadata": {},
   "outputs": [
    {
     "name": "stdout",
     "output_type": "stream",
     "text": [
      "Accuracy: 0.745396317053643\n",
      "Recall: 0.745396317053643\n",
      "Precision: 0.7405471539616016\n",
      "F1: 0.714380997685892\n",
      "ROC AUC: 0.6145655665158595\n",
      "Confusion matrix:\n",
      " [[749  47   2   3   0]\n",
      " [159 160   3   0   0]\n",
      " [ 37  13   9   0   0]\n",
      " [ 50   3   0  13   0]\n",
      " [  1   0   0   0   0]]\n",
      "              precision    recall  f1-score   support\n",
      "\n",
      "           0       0.75      0.94      0.83       801\n",
      "           1       0.72      0.50      0.59       322\n",
      "           2       0.64      0.15      0.25        59\n",
      "           3       0.81      0.20      0.32        66\n",
      "           4       0.00      0.00      0.00         1\n",
      "\n",
      "    accuracy                           0.75      1249\n",
      "   macro avg       0.58      0.36      0.40      1249\n",
      "weighted avg       0.74      0.75      0.71      1249\n",
      "\n"
     ]
    },
    {
     "name": "stderr",
     "output_type": "stream",
     "text": [
      "C:\\Users\\semav\\anaconda3\\lib\\site-packages\\sklearn\\metrics\\_classification.py:1221: UndefinedMetricWarning: Precision is ill-defined and being set to 0.0 in labels with no predicted samples. Use `zero_division` parameter to control this behavior.\n",
      "  _warn_prf(average, modifier, msg_start, len(result))\n",
      "C:\\Users\\semav\\anaconda3\\lib\\site-packages\\sklearn\\metrics\\_classification.py:1221: UndefinedMetricWarning: Precision and F-score are ill-defined and being set to 0.0 in labels with no predicted samples. Use `zero_division` parameter to control this behavior.\n",
      "  _warn_prf(average, modifier, msg_start, len(result))\n"
     ]
    }
   ],
   "source": [
    "print(\"Accuracy:\", accuracy_score(y_test, y_pred_t))\n",
    "print(\"Recall:\", recall_score(y_test, y_pred_t, average = 'weighted'))\n",
    "print(\"Precision:\", precision_score(y_test, y_pred_t, average = 'weighted'))\n",
    "print(\"F1:\", f1_score(y_test, y_pred_t, average='weighted'))\n",
    "print(\"ROC AUC:\", roc_auc_score(y_test, y_prob_t, average = 'weighted', multi_class='ovo'))\n",
    "print(\"Confusion matrix:\\n\", confusion_matrix(y_test, y_pred_t))\n",
    "print(classification_report(y_test, y_pred_t))"
   ]
  },
  {
   "cell_type": "markdown",
   "metadata": {},
   "source": [
    "## LightGBM"
   ]
  },
  {
   "cell_type": "code",
   "execution_count": 50,
   "metadata": {},
   "outputs": [
    {
     "name": "stdout",
     "output_type": "stream",
     "text": [
      "Fitting 2 folds for each of 50 candidates, totalling 100 fits\n"
     ]
    },
    {
     "name": "stderr",
     "output_type": "stream",
     "text": [
      "[Parallel(n_jobs=-1)]: Using backend LokyBackend with 8 concurrent workers.\n",
      "[Parallel(n_jobs=-1)]: Done  16 tasks      | elapsed:   10.8s\n",
      "[Parallel(n_jobs=-1)]: Done 100 out of 100 | elapsed:   44.5s finished\n"
     ]
    }
   ],
   "source": [
    "gbm = LGBMClassifier()\n",
    "param_grid = {\n",
    "    'n_estimators': range(10, 301, 20),\n",
    "    'learning_rate': [0.05, 0.075, 0.1, 0.25, 0.5, 0.75, 1]\n",
    "}\n",
    "randgbm_t = RandomizedSearchCV(estimator=gbm,\n",
    "                               param_distributions=param_grid,\n",
    "                               cv=2,\n",
    "                               verbose=3,\n",
    "                               n_iter=50,\n",
    "                               scoring=f1,\n",
    "                               n_jobs=-1)\n",
    "randgbm_t.fit(X_train, y_train)\n",
    "y_pred_t = randdAdaBoost.predict(X_test)\n",
    "y_prob_t = randdAdaBoost.predict_proba(X_test)"
   ]
  },
  {
   "cell_type": "code",
   "execution_count": 51,
   "metadata": {},
   "outputs": [
    {
     "name": "stdout",
     "output_type": "stream",
     "text": [
      "Accuracy: 0.6581265012009607\n",
      "Recall: 0.6581265012009607\n",
      "Precision: 0.6734629199478142\n",
      "F1: 0.6038145744598363\n",
      "ROC AUC: 0.6145655665158595\n",
      "Confusion matrix:\n",
      " [[735  22  41   3   0]\n",
      " [228  54  39   1   0]\n",
      " [ 32   2  25   0   0]\n",
      " [ 54   0   4   8   0]\n",
      " [  1   0   0   0   0]]\n",
      "              precision    recall  f1-score   support\n",
      "\n",
      "           0       0.70      0.92      0.79       801\n",
      "           1       0.69      0.17      0.27       322\n",
      "           2       0.23      0.42      0.30        59\n",
      "           3       0.67      0.12      0.21        66\n",
      "           4       0.00      0.00      0.00         1\n",
      "\n",
      "    accuracy                           0.66      1249\n",
      "   macro avg       0.46      0.33      0.31      1249\n",
      "weighted avg       0.67      0.66      0.60      1249\n",
      "\n"
     ]
    },
    {
     "name": "stderr",
     "output_type": "stream",
     "text": [
      "C:\\Users\\semav\\anaconda3\\lib\\site-packages\\sklearn\\metrics\\_classification.py:1221: UndefinedMetricWarning: Precision is ill-defined and being set to 0.0 in labels with no predicted samples. Use `zero_division` parameter to control this behavior.\n",
      "  _warn_prf(average, modifier, msg_start, len(result))\n",
      "C:\\Users\\semav\\anaconda3\\lib\\site-packages\\sklearn\\metrics\\_classification.py:1221: UndefinedMetricWarning: Precision and F-score are ill-defined and being set to 0.0 in labels with no predicted samples. Use `zero_division` parameter to control this behavior.\n",
      "  _warn_prf(average, modifier, msg_start, len(result))\n"
     ]
    }
   ],
   "source": [
    "print(\"Accuracy:\", accuracy_score(y_test, y_pred_t))\n",
    "print(\"Recall:\", recall_score(y_test, y_pred_t, average = 'weighted'))\n",
    "print(\"Precision:\", precision_score(y_test, y_pred_t, average = 'weighted'))\n",
    "print(\"F1:\", f1_score(y_test, y_pred_t, average='weighted'))\n",
    "print(\"ROC AUC:\", roc_auc_score(y_test, y_prob_t, average = 'weighted', multi_class='ovo'))\n",
    "print(\"Confusion matrix:\\n\", confusion_matrix(y_test, y_pred_t))\n",
    "print(classification_report(y_test, y_pred_t))"
   ]
  }
 ],
 "metadata": {
  "kernelspec": {
   "display_name": "Python 3",
   "language": "python",
   "name": "python3"
  },
  "language_info": {
   "codemirror_mode": {
    "name": "ipython",
    "version": 3
   },
   "file_extension": ".py",
   "mimetype": "text/x-python",
   "name": "python",
   "nbconvert_exporter": "python",
   "pygments_lexer": "ipython3",
   "version": "3.8.5"
  }
 },
 "nbformat": 4,
 "nbformat_minor": 5
}
