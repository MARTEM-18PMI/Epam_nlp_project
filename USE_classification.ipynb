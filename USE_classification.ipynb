{
 "cells": [
  {
   "cell_type": "code",
   "execution_count": 1,
   "metadata": {},
   "outputs": [],
   "source": [
    "import pandas as pd\n",
    "import numpy as np\n",
    "from sklearn.neighbors import KNeighborsClassifier\n",
    "from sklearn.model_selection import train_test_split\n",
    "from sklearn.model_selection import RandomizedSearchCV\n",
    "from sklearn.metrics import f1_score, make_scorer\n",
    "from sklearn.metrics import classification_report, confusion_matrix, recall_score, precision_score\n",
    "from sklearn.metrics import accuracy_score, roc_auc_score"
   ]
  },
  {
   "cell_type": "markdown",
   "metadata": {},
   "source": [
    "## Подготовка данных"
   ]
  },
  {
   "cell_type": "code",
   "execution_count": 2,
   "metadata": {},
   "outputs": [],
   "source": [
    "df = pd.read_csv('USE.csv')"
   ]
  },
  {
   "cell_type": "code",
   "execution_count": null,
   "metadata": {},
   "outputs": [],
   "source": []
  },
  {
   "cell_type": "code",
   "execution_count": 3,
   "metadata": {},
   "outputs": [],
   "source": [
    "X, y = df.iloc[:, 5:], df['tag']"
   ]
  },
  {
   "cell_type": "code",
   "execution_count": 6,
   "metadata": {},
   "outputs": [],
   "source": [
    "X_train, X_test, y_train, y_test = train_test_split(X, y, test_size=0.3)"
   ]
  },
  {
   "cell_type": "markdown",
   "metadata": {},
   "source": [
    "## KNN"
   ]
  },
  {
   "cell_type": "code",
   "execution_count": 7,
   "metadata": {},
   "outputs": [
    {
     "name": "stderr",
     "output_type": "stream",
     "text": [
      "C:\\Users\\Home-PC\\anaconda3\\lib\\site-packages\\sklearn\\model_selection\\_search.py:278: UserWarning: The total space of parameters 23 is smaller than n_iter=50. Running 23 iterations. For exhaustive searches, use GridSearchCV.\n",
      "  warnings.warn(\n",
      "[Parallel(n_jobs=-1)]: Using backend LokyBackend with 4 concurrent workers.\n"
     ]
    },
    {
     "name": "stdout",
     "output_type": "stream",
     "text": [
      "Fitting 5 folds for each of 23 candidates, totalling 115 fits\n"
     ]
    },
    {
     "name": "stderr",
     "output_type": "stream",
     "text": [
      "[Parallel(n_jobs=-1)]: Done  24 tasks      | elapsed:   16.7s\n",
      "[Parallel(n_jobs=-1)]: Done 115 out of 115 | elapsed:  1.5min finished\n"
     ]
    }
   ],
   "source": [
    "knn_params = {'n_neighbors': range(10, 100, 4)}\n",
    "f1 = make_scorer(f1_score, average='weighted')  # for scoring param\n",
    "rand_knn = RandomizedSearchCV(estimator=KNeighborsClassifier(),\n",
    "                              param_distributions=knn_params,\n",
    "                              cv=5,\n",
    "                              verbose=3,\n",
    "                              n_iter = 50,\n",
    "                              n_jobs=-1,\n",
    "                              scoring=f1)\n",
    "rand_knn.fit(X_train, y_train)\n",
    "y_pred = rand_knn.predict(X_test)\n",
    "y_prob = rand_knn.predict_proba(X_test)"
   ]
  },
  {
   "cell_type": "code",
   "execution_count": 8,
   "metadata": {},
   "outputs": [
    {
     "data": {
      "text/plain": [
       "KNeighborsClassifier(n_neighbors=10)"
      ]
     },
     "execution_count": 8,
     "metadata": {},
     "output_type": "execute_result"
    }
   ],
   "source": [
    "rand_knn.best_estimator_"
   ]
  },
  {
   "cell_type": "code",
   "execution_count": 9,
   "metadata": {},
   "outputs": [
    {
     "name": "stdout",
     "output_type": "stream",
     "text": [
      "Accuracy: 0.6475300400534045\n",
      "Recall: 0.6475300400534045\n",
      "Precision: 0.5797158384263055\n",
      "F1: 0.5768435973150727\n",
      "ROC AUC: 0.5729872795541696\n",
      "Confusion matrix:\n",
      " [[878  64   0   6   0]\n",
      " [302  87   0   1   0]\n",
      " [ 79   6   0   1   0]\n",
      " [ 64   2   0   5   0]\n",
      " [  3   0   0   0   0]]\n",
      "              precision    recall  f1-score   support\n",
      "\n",
      "           0       0.66      0.93      0.77       948\n",
      "           1       0.55      0.22      0.32       390\n",
      "           2       0.00      0.00      0.00        86\n",
      "           3       0.38      0.07      0.12        71\n",
      "           4       0.00      0.00      0.00         3\n",
      "\n",
      "    accuracy                           0.65      1498\n",
      "   macro avg       0.32      0.24      0.24      1498\n",
      "weighted avg       0.58      0.65      0.58      1498\n",
      "\n"
     ]
    },
    {
     "name": "stderr",
     "output_type": "stream",
     "text": [
      "C:\\Users\\Home-PC\\anaconda3\\lib\\site-packages\\sklearn\\metrics\\_classification.py:1221: UndefinedMetricWarning: Precision is ill-defined and being set to 0.0 in labels with no predicted samples. Use `zero_division` parameter to control this behavior.\n",
      "  _warn_prf(average, modifier, msg_start, len(result))\n",
      "C:\\Users\\Home-PC\\anaconda3\\lib\\site-packages\\sklearn\\metrics\\_classification.py:1221: UndefinedMetricWarning: Precision and F-score are ill-defined and being set to 0.0 in labels with no predicted samples. Use `zero_division` parameter to control this behavior.\n",
      "  _warn_prf(average, modifier, msg_start, len(result))\n"
     ]
    }
   ],
   "source": [
    "print(\"Accuracy:\", accuracy_score(y_test, y_pred))\n",
    "print(\"Recall:\", recall_score(y_test, y_pred, average = 'weighted'))\n",
    "print(\"Precision:\", precision_score(y_test, y_pred, average = 'weighted'))\n",
    "print(\"F1:\", f1_score(y_test, y_pred, average='weighted'))\n",
    "print(\"ROC AUC:\", roc_auc_score(y_test, y_prob, average = 'weighted', multi_class='ovo'))\n",
    "print(\"Confusion matrix:\\n\", confusion_matrix(y_test, y_pred))\n",
    "print(classification_report(y_test, y_pred))"
   ]
  },
  {
   "cell_type": "code",
   "execution_count": 10,
   "metadata": {},
   "outputs": [],
   "source": [
    "from sklearn.ensemble import AdaBoostClassifier\n",
    "from sklearn.tree import DecisionTreeClassifier"
   ]
  },
  {
   "cell_type": "code",
   "execution_count": 11,
   "metadata": {},
   "outputs": [
    {
     "name": "stdout",
     "output_type": "stream",
     "text": [
      "Fitting 3 folds for each of 50 candidates, totalling 150 fits\n"
     ]
    },
    {
     "name": "stderr",
     "output_type": "stream",
     "text": [
      "[Parallel(n_jobs=-1)]: Using backend LokyBackend with 4 concurrent workers.\n",
      "[Parallel(n_jobs=-1)]: Done  24 tasks      | elapsed:  1.1min\n",
      "[Parallel(n_jobs=-1)]: Done 120 tasks      | elapsed:  5.6min\n",
      "[Parallel(n_jobs=-1)]: Done 150 out of 150 | elapsed:  6.9min finished\n"
     ]
    }
   ],
   "source": [
    "ada_params = {\n",
    "    'n_estimators': range(10, 200, 10),\n",
    "    'learning_rate': [0.1, 0.25,0.5,0.75, 1]\n",
    "}\n",
    "\n",
    "rand_AdaBoost = RandomizedSearchCV(estimator=AdaBoostClassifier(),\n",
    "                                   param_distributions=ada_params,\n",
    "                                   cv=3,\n",
    "                                   n_iter=50,\n",
    "                                   verbose=3,\n",
    "                                   scoring=f1,\n",
    "                                   n_jobs=-1)\n",
    "\n",
    "rand_AdaBoost.fit(X_train, y_train)\n",
    "y_pred = rand_AdaBoost.predict(X_test)\n",
    "y_prob = rand_AdaBoost.predict_proba(X_test)"
   ]
  },
  {
   "cell_type": "code",
   "execution_count": 12,
   "metadata": {},
   "outputs": [],
   "source": [
    "y_pred = rand_AdaBoost.predict(X_test)\n",
    "y_prob = rand_AdaBoost.predict_proba(X_test)"
   ]
  },
  {
   "cell_type": "code",
   "execution_count": 13,
   "metadata": {},
   "outputs": [
    {
     "data": {
      "text/plain": [
       "AdaBoostClassifier(learning_rate=0.5, n_estimators=70)"
      ]
     },
     "execution_count": 13,
     "metadata": {},
     "output_type": "execute_result"
    }
   ],
   "source": [
    "rand_AdaBoost.best_estimator_"
   ]
  },
  {
   "cell_type": "code",
   "execution_count": 14,
   "metadata": {},
   "outputs": [
    {
     "name": "stdout",
     "output_type": "stream",
     "text": [
      "Accuracy: 0.6428571428571429\n",
      "Recall: 0.6428571428571429\n",
      "Precision: 0.5853947151235555\n",
      "F1: 0.5400627397923419\n",
      "ROC AUC: 0.4861866292757625\n",
      "Confusion matrix:\n",
      " [[922  19   0   7   0]\n",
      " [345  39   0   6   0]\n",
      " [ 81   2   0   3   0]\n",
      " [ 69   0   0   2   0]\n",
      " [  3   0   0   0   0]]\n",
      "              precision    recall  f1-score   support\n",
      "\n",
      "           0       0.65      0.97      0.78       948\n",
      "           1       0.65      0.10      0.17       390\n",
      "           2       0.00      0.00      0.00        86\n",
      "           3       0.11      0.03      0.04        71\n",
      "           4       0.00      0.00      0.00         3\n",
      "\n",
      "    accuracy                           0.64      1498\n",
      "   macro avg       0.28      0.22      0.20      1498\n",
      "weighted avg       0.59      0.64      0.54      1498\n",
      "\n"
     ]
    },
    {
     "name": "stderr",
     "output_type": "stream",
     "text": [
      "C:\\Users\\Home-PC\\anaconda3\\lib\\site-packages\\sklearn\\metrics\\_classification.py:1221: UndefinedMetricWarning: Precision is ill-defined and being set to 0.0 in labels with no predicted samples. Use `zero_division` parameter to control this behavior.\n",
      "  _warn_prf(average, modifier, msg_start, len(result))\n",
      "C:\\Users\\Home-PC\\anaconda3\\lib\\site-packages\\sklearn\\metrics\\_classification.py:1221: UndefinedMetricWarning: Precision and F-score are ill-defined and being set to 0.0 in labels with no predicted samples. Use `zero_division` parameter to control this behavior.\n",
      "  _warn_prf(average, modifier, msg_start, len(result))\n"
     ]
    }
   ],
   "source": [
    "print(\"Accuracy:\", accuracy_score(y_test, y_pred))\n",
    "print(\"Recall:\", recall_score(y_test, y_pred, average = 'weighted'))\n",
    "print(\"Precision:\", precision_score(y_test, y_pred, average = 'weighted'))\n",
    "print(\"F1:\", f1_score(y_test, y_pred, average='weighted'))\n",
    "print(\"ROC AUC:\", roc_auc_score(y_test, y_prob, average = 'weighted', multi_class='ovo'))\n",
    "print(\"Confusion matrix:\\n\", confusion_matrix(y_test, y_pred))\n",
    "print(classification_report(y_test, y_pred))"
   ]
  },
  {
   "cell_type": "code",
   "execution_count": 15,
   "metadata": {},
   "outputs": [],
   "source": [
    "import xgboost as xgb"
   ]
  },
  {
   "cell_type": "code",
   "execution_count": 16,
   "metadata": {},
   "outputs": [
    {
     "name": "stdout",
     "output_type": "stream",
     "text": [
      "Fitting 3 folds for each of 30 candidates, totalling 90 fits\n",
      "[CV] n_estimators=5, max_depth=16, eta=0.5 ...........................\n"
     ]
    },
    {
     "name": "stderr",
     "output_type": "stream",
     "text": [
      "[Parallel(n_jobs=1)]: Using backend SequentialBackend with 1 concurrent workers.\n"
     ]
    },
    {
     "name": "stdout",
     "output_type": "stream",
     "text": [
      "[CV]  n_estimators=5, max_depth=16, eta=0.5, score=0.576, total=   3.5s\n",
      "[CV] n_estimators=5, max_depth=16, eta=0.5 ...........................\n"
     ]
    },
    {
     "name": "stderr",
     "output_type": "stream",
     "text": [
      "[Parallel(n_jobs=1)]: Done   1 out of   1 | elapsed:    3.4s remaining:    0.0s\n"
     ]
    },
    {
     "name": "stdout",
     "output_type": "stream",
     "text": [
      "[CV]  n_estimators=5, max_depth=16, eta=0.5, score=0.590, total=   1.8s\n",
      "[CV] n_estimators=5, max_depth=16, eta=0.5 ...........................\n"
     ]
    },
    {
     "name": "stderr",
     "output_type": "stream",
     "text": [
      "[Parallel(n_jobs=1)]: Done   2 out of   2 | elapsed:    5.3s remaining:    0.0s\n"
     ]
    },
    {
     "name": "stdout",
     "output_type": "stream",
     "text": [
      "[CV]  n_estimators=5, max_depth=16, eta=0.5, score=0.579, total=   1.8s\n",
      "[CV] n_estimators=35, max_depth=18, eta=0.4 ..........................\n",
      "[CV]  n_estimators=35, max_depth=18, eta=0.4, score=0.594, total=  11.8s\n",
      "[CV] n_estimators=35, max_depth=18, eta=0.4 ..........................\n",
      "[CV]  n_estimators=35, max_depth=18, eta=0.4, score=0.581, total=  12.2s\n",
      "[CV] n_estimators=35, max_depth=18, eta=0.4 ..........................\n",
      "[CV]  n_estimators=35, max_depth=18, eta=0.4, score=0.580, total=  12.2s\n",
      "[CV] n_estimators=95, max_depth=8, eta=0.1 ...........................\n",
      "[CV]  n_estimators=95, max_depth=8, eta=0.1, score=0.597, total=  19.2s\n",
      "[CV] n_estimators=95, max_depth=8, eta=0.1 ...........................\n",
      "[CV]  n_estimators=95, max_depth=8, eta=0.1, score=0.587, total=  27.2s\n",
      "[CV] n_estimators=95, max_depth=8, eta=0.1 ...........................\n",
      "[CV]  n_estimators=95, max_depth=8, eta=0.1, score=0.584, total=  24.8s\n",
      "[CV] n_estimators=65, max_depth=4, eta=0.4 ...........................\n",
      "[CV]  n_estimators=65, max_depth=4, eta=0.4, score=0.591, total=   8.5s\n",
      "[CV] n_estimators=65, max_depth=4, eta=0.4 ...........................\n",
      "[CV]  n_estimators=65, max_depth=4, eta=0.4, score=0.591, total=  10.3s\n",
      "[CV] n_estimators=65, max_depth=4, eta=0.4 ...........................\n",
      "[CV]  n_estimators=65, max_depth=4, eta=0.4, score=0.575, total=   9.6s\n",
      "[CV] n_estimators=55, max_depth=16, eta=0.5 ..........................\n",
      "[CV]  n_estimators=55, max_depth=16, eta=0.5, score=0.592, total=  20.4s\n",
      "[CV] n_estimators=55, max_depth=16, eta=0.5 ..........................\n",
      "[CV]  n_estimators=55, max_depth=16, eta=0.5, score=0.587, total=  21.3s\n",
      "[CV] n_estimators=55, max_depth=16, eta=0.5 ..........................\n",
      "[CV]  n_estimators=55, max_depth=16, eta=0.5, score=0.581, total=  21.3s\n",
      "[CV] n_estimators=85, max_depth=10, eta=0.2 ..........................\n",
      "[CV]  n_estimators=85, max_depth=10, eta=0.2, score=0.599, total=  27.3s\n",
      "[CV] n_estimators=85, max_depth=10, eta=0.2 ..........................\n",
      "[CV]  n_estimators=85, max_depth=10, eta=0.2, score=0.597, total=  28.8s\n",
      "[CV] n_estimators=85, max_depth=10, eta=0.2 ..........................\n",
      "[CV]  n_estimators=85, max_depth=10, eta=0.2, score=0.585, total=  28.9s\n",
      "[CV] n_estimators=65, max_depth=14, eta=0.5 ..........................\n",
      "[CV]  n_estimators=65, max_depth=14, eta=0.5, score=0.595, total=  22.9s\n",
      "[CV] n_estimators=65, max_depth=14, eta=0.5 ..........................\n",
      "[CV]  n_estimators=65, max_depth=14, eta=0.5, score=0.582, total=  24.2s\n",
      "[CV] n_estimators=65, max_depth=14, eta=0.5 ..........................\n",
      "[CV]  n_estimators=65, max_depth=14, eta=0.5, score=0.586, total=  21.5s\n",
      "[CV] n_estimators=85, max_depth=12, eta=0.1 ..........................\n",
      "[CV]  n_estimators=85, max_depth=12, eta=0.1, score=0.600, total=  25.6s\n",
      "[CV] n_estimators=85, max_depth=12, eta=0.1 ..........................\n",
      "[CV]  n_estimators=85, max_depth=12, eta=0.1, score=0.593, total=  28.8s\n",
      "[CV] n_estimators=85, max_depth=12, eta=0.1 ..........................\n",
      "[CV]  n_estimators=85, max_depth=12, eta=0.1, score=0.583, total=  26.9s\n",
      "[CV] n_estimators=35, max_depth=16, eta=0.1 ..........................\n",
      "[CV]  n_estimators=35, max_depth=16, eta=0.1, score=0.592, total=  13.3s\n",
      "[CV] n_estimators=35, max_depth=16, eta=0.1 ..........................\n",
      "[CV]  n_estimators=35, max_depth=16, eta=0.1, score=0.582, total=  15.6s\n",
      "[CV] n_estimators=35, max_depth=16, eta=0.1 ..........................\n",
      "[CV]  n_estimators=35, max_depth=16, eta=0.1, score=0.581, total=  16.8s\n",
      "[CV] n_estimators=55, max_depth=16, eta=0.3 ..........................\n",
      "[CV]  n_estimators=55, max_depth=16, eta=0.3, score=0.599, total=  20.3s\n",
      "[CV] n_estimators=55, max_depth=16, eta=0.3 ..........................\n",
      "[CV]  n_estimators=55, max_depth=16, eta=0.3, score=0.594, total=  20.3s\n",
      "[CV] n_estimators=55, max_depth=16, eta=0.3 ..........................\n",
      "[CV]  n_estimators=55, max_depth=16, eta=0.3, score=0.579, total=  21.3s\n",
      "[CV] n_estimators=45, max_depth=8, eta=0.2 ...........................\n",
      "[CV]  n_estimators=45, max_depth=8, eta=0.2, score=0.602, total=  12.7s\n",
      "[CV] n_estimators=45, max_depth=8, eta=0.2 ...........................\n",
      "[CV]  n_estimators=45, max_depth=8, eta=0.2, score=0.585, total=  13.0s\n",
      "[CV] n_estimators=45, max_depth=8, eta=0.2 ...........................\n",
      "[CV]  n_estimators=45, max_depth=8, eta=0.2, score=0.585, total=  11.6s\n",
      "[CV] n_estimators=55, max_depth=14, eta=0.4 ..........................\n",
      "[CV]  n_estimators=55, max_depth=14, eta=0.4, score=0.592, total=  18.2s\n",
      "[CV] n_estimators=55, max_depth=14, eta=0.4 ..........................\n",
      "[CV]  n_estimators=55, max_depth=14, eta=0.4, score=0.583, total=  18.7s\n",
      "[CV] n_estimators=55, max_depth=14, eta=0.4 ..........................\n",
      "[CV]  n_estimators=55, max_depth=14, eta=0.4, score=0.583, total=  18.9s\n",
      "[CV] n_estimators=55, max_depth=10, eta=0.4 ..........................\n",
      "[CV]  n_estimators=55, max_depth=10, eta=0.4, score=0.596, total=  17.6s\n",
      "[CV] n_estimators=55, max_depth=10, eta=0.4 ..........................\n",
      "[CV]  n_estimators=55, max_depth=10, eta=0.4, score=0.591, total=  15.3s\n",
      "[CV] n_estimators=55, max_depth=10, eta=0.4 ..........................\n",
      "[CV]  n_estimators=55, max_depth=10, eta=0.4, score=0.582, total=  16.9s\n",
      "[CV] n_estimators=85, max_depth=14, eta=0.4 ..........................\n",
      "[CV]  n_estimators=85, max_depth=14, eta=0.4, score=0.597, total=  29.7s\n",
      "[CV] n_estimators=85, max_depth=14, eta=0.4 ..........................\n",
      "[CV]  n_estimators=85, max_depth=14, eta=0.4, score=0.586, total=  29.6s\n",
      "[CV] n_estimators=85, max_depth=14, eta=0.4 ..........................\n",
      "[CV]  n_estimators=85, max_depth=14, eta=0.4, score=0.580, total=  29.4s\n",
      "[CV] n_estimators=95, max_depth=10, eta=0.5 ..........................\n",
      "[CV]  n_estimators=95, max_depth=10, eta=0.5, score=0.592, total=  25.3s\n",
      "[CV] n_estimators=95, max_depth=10, eta=0.5 ..........................\n",
      "[CV]  n_estimators=95, max_depth=10, eta=0.5, score=0.592, total=  26.5s\n",
      "[CV] n_estimators=95, max_depth=10, eta=0.5 ..........................\n",
      "[CV]  n_estimators=95, max_depth=10, eta=0.5, score=0.582, total=  29.5s\n",
      "[CV] n_estimators=55, max_depth=4, eta=0.4 ...........................\n",
      "[CV]  n_estimators=55, max_depth=4, eta=0.4, score=0.592, total=   7.7s\n",
      "[CV] n_estimators=55, max_depth=4, eta=0.4 ...........................\n",
      "[CV]  n_estimators=55, max_depth=4, eta=0.4, score=0.585, total=   8.0s\n",
      "[CV] n_estimators=55, max_depth=4, eta=0.4 ...........................\n",
      "[CV]  n_estimators=55, max_depth=4, eta=0.4, score=0.577, total=   7.7s\n",
      "[CV] n_estimators=55, max_depth=8, eta=0.1 ...........................\n",
      "[CV]  n_estimators=55, max_depth=8, eta=0.1, score=0.597, total=  13.1s\n",
      "[CV] n_estimators=55, max_depth=8, eta=0.1 ...........................\n",
      "[CV]  n_estimators=55, max_depth=8, eta=0.1, score=0.589, total=  13.9s\n",
      "[CV] n_estimators=55, max_depth=8, eta=0.1 ...........................\n",
      "[CV]  n_estimators=55, max_depth=8, eta=0.1, score=0.585, total=  15.7s\n",
      "[CV] n_estimators=55, max_depth=12, eta=0.3 ..........................\n",
      "[CV]  n_estimators=55, max_depth=12, eta=0.3, score=0.598, total=  18.3s\n",
      "[CV] n_estimators=55, max_depth=12, eta=0.3 ..........................\n",
      "[CV]  n_estimators=55, max_depth=12, eta=0.3, score=0.596, total=  17.7s\n",
      "[CV] n_estimators=55, max_depth=12, eta=0.3 ..........................\n",
      "[CV]  n_estimators=55, max_depth=12, eta=0.3, score=0.583, total=  17.2s\n",
      "[CV] n_estimators=65, max_depth=6, eta=0.1 ...........................\n",
      "[CV]  n_estimators=65, max_depth=6, eta=0.1, score=0.598, total=  12.7s\n",
      "[CV] n_estimators=65, max_depth=6, eta=0.1 ...........................\n",
      "[CV]  n_estimators=65, max_depth=6, eta=0.1, score=0.588, total=  13.4s\n",
      "[CV] n_estimators=65, max_depth=6, eta=0.1 ...........................\n",
      "[CV]  n_estimators=65, max_depth=6, eta=0.1, score=0.584, total=  13.5s\n",
      "[CV] n_estimators=75, max_depth=14, eta=0.4 ..........................\n",
      "[CV]  n_estimators=75, max_depth=14, eta=0.4, score=0.596, total=  24.8s\n",
      "[CV] n_estimators=75, max_depth=14, eta=0.4 ..........................\n",
      "[CV]  n_estimators=75, max_depth=14, eta=0.4, score=0.590, total=  26.8s\n",
      "[CV] n_estimators=75, max_depth=14, eta=0.4 ..........................\n",
      "[CV]  n_estimators=75, max_depth=14, eta=0.4, score=0.581, total=  25.5s\n",
      "[CV] n_estimators=75, max_depth=4, eta=0.1 ...........................\n"
     ]
    },
    {
     "name": "stdout",
     "output_type": "stream",
     "text": [
      "[CV]  n_estimators=75, max_depth=4, eta=0.1, score=0.594, total=  10.9s\n",
      "[CV] n_estimators=75, max_depth=4, eta=0.1 ...........................\n",
      "[CV]  n_estimators=75, max_depth=4, eta=0.1, score=0.585, total=  11.4s\n",
      "[CV] n_estimators=75, max_depth=4, eta=0.1 ...........................\n",
      "[CV]  n_estimators=75, max_depth=4, eta=0.1, score=0.584, total=  10.8s\n",
      "[CV] n_estimators=75, max_depth=8, eta=0.4 ...........................\n",
      "[CV]  n_estimators=75, max_depth=8, eta=0.4, score=0.596, total=  17.7s\n",
      "[CV] n_estimators=75, max_depth=8, eta=0.4 ...........................\n",
      "[CV]  n_estimators=75, max_depth=8, eta=0.4, score=0.583, total=  17.1s\n",
      "[CV] n_estimators=75, max_depth=8, eta=0.4 ...........................\n",
      "[CV]  n_estimators=75, max_depth=8, eta=0.4, score=0.581, total=  17.3s\n",
      "[CV] n_estimators=15, max_depth=12, eta=0.1 ..........................\n",
      "[CV]  n_estimators=15, max_depth=12, eta=0.1, score=0.596, total=   5.2s\n",
      "[CV] n_estimators=15, max_depth=12, eta=0.1 ..........................\n",
      "[CV]  n_estimators=15, max_depth=12, eta=0.1, score=0.582, total=   5.3s\n",
      "[CV] n_estimators=15, max_depth=12, eta=0.1 ..........................\n",
      "[CV]  n_estimators=15, max_depth=12, eta=0.1, score=0.585, total=   5.2s\n",
      "[CV] n_estimators=85, max_depth=18, eta=0.1 ..........................\n",
      "[CV]  n_estimators=85, max_depth=18, eta=0.1, score=0.593, total=  34.8s\n",
      "[CV] n_estimators=85, max_depth=18, eta=0.1 ..........................\n",
      "[CV]  n_estimators=85, max_depth=18, eta=0.1, score=0.581, total=  34.7s\n",
      "[CV] n_estimators=85, max_depth=18, eta=0.1 ..........................\n",
      "[CV]  n_estimators=85, max_depth=18, eta=0.1, score=0.580, total=  33.8s\n",
      "[CV] n_estimators=35, max_depth=10, eta=0.3 ..........................\n",
      "[CV]  n_estimators=35, max_depth=10, eta=0.3, score=0.595, total=   9.7s\n",
      "[CV] n_estimators=35, max_depth=10, eta=0.3 ..........................\n",
      "[CV]  n_estimators=35, max_depth=10, eta=0.3, score=0.591, total=  10.3s\n",
      "[CV] n_estimators=35, max_depth=10, eta=0.3 ..........................\n",
      "[CV]  n_estimators=35, max_depth=10, eta=0.3, score=0.583, total=  11.5s\n",
      "[CV] n_estimators=75, max_depth=12, eta=0.2 ..........................\n",
      "[CV]  n_estimators=75, max_depth=12, eta=0.2, score=0.598, total=  24.5s\n",
      "[CV] n_estimators=75, max_depth=12, eta=0.2 ..........................\n",
      "[CV]  n_estimators=75, max_depth=12, eta=0.2, score=0.577, total=  26.0s\n",
      "[CV] n_estimators=75, max_depth=12, eta=0.2 ..........................\n",
      "[CV]  n_estimators=75, max_depth=12, eta=0.2, score=0.583, total=  23.7s\n",
      "[CV] n_estimators=45, max_depth=14, eta=0.1 ..........................\n",
      "[CV]  n_estimators=45, max_depth=14, eta=0.1, score=0.591, total=  16.2s\n",
      "[CV] n_estimators=45, max_depth=14, eta=0.1 ..........................\n",
      "[CV]  n_estimators=45, max_depth=14, eta=0.1, score=0.588, total=  16.0s\n",
      "[CV] n_estimators=45, max_depth=14, eta=0.1 ..........................\n",
      "[CV]  n_estimators=45, max_depth=14, eta=0.1, score=0.584, total=  15.6s\n",
      "[CV] n_estimators=95, max_depth=18, eta=0.4 ..........................\n",
      "[CV]  n_estimators=95, max_depth=18, eta=0.4, score=0.597, total=  36.3s\n",
      "[CV] n_estimators=95, max_depth=18, eta=0.4 ..........................\n",
      "[CV]  n_estimators=95, max_depth=18, eta=0.4, score=0.579, total=  42.0s\n",
      "[CV] n_estimators=95, max_depth=18, eta=0.4 ..........................\n",
      "[CV]  n_estimators=95, max_depth=18, eta=0.4, score=0.584, total=  38.4s\n",
      "[CV] n_estimators=95, max_depth=10, eta=0.3 ..........................\n",
      "[CV]  n_estimators=95, max_depth=10, eta=0.3, score=0.594, total=  30.7s\n",
      "[CV] n_estimators=95, max_depth=10, eta=0.3 ..........................\n",
      "[CV]  n_estimators=95, max_depth=10, eta=0.3, score=0.590, total=  28.0s\n",
      "[CV] n_estimators=95, max_depth=10, eta=0.3 ..........................\n",
      "[CV]  n_estimators=95, max_depth=10, eta=0.3, score=0.581, total=  28.7s\n",
      "[CV] n_estimators=25, max_depth=12, eta=0.2 ..........................\n",
      "[CV]  n_estimators=25, max_depth=12, eta=0.2, score=0.595, total=   8.5s\n",
      "[CV] n_estimators=25, max_depth=12, eta=0.2 ..........................\n",
      "[CV]  n_estimators=25, max_depth=12, eta=0.2, score=0.584, total=   8.7s\n",
      "[CV] n_estimators=25, max_depth=12, eta=0.2 ..........................\n",
      "[CV]  n_estimators=25, max_depth=12, eta=0.2, score=0.582, total=   8.3s\n"
     ]
    },
    {
     "name": "stderr",
     "output_type": "stream",
     "text": [
      "[Parallel(n_jobs=1)]: Done  90 out of  90 | elapsed: 28.1min finished\n"
     ]
    }
   ],
   "source": [
    "XGB_param = { \n",
    "    \"n_estimators\": range(5, 100, 10), \n",
    "    'max_depth': range(4, 20, 2), \n",
    "    'eta': [0.1, 0.2, 0.3, 0.4, 0.5]\n",
    "} \n",
    "# max_depth - максимальная глубина деревьев, eta - специальный параметр скорости обучения, silent - если 1, то программа\n",
    "# работает по-тихому, objective - целевая функция, eval_metric - по какой метрике оцениваем качество. AUC совмещает в себе \n",
    "# precision и recall - альтернатива f1-score\n",
    "\n",
    "\n",
    "grid = RandomizedSearchCV(estimator=xgb.XGBClassifier(objective='multi:softmax'), \n",
    "                          param_distributions=XGB_param, n_iter=30,\n",
    "                          cv=3, verbose=3, scoring=f1)\n",
    "grid.fit(X_train, y_train)\n",
    "y_pred = grid.predict(X_test)\n",
    "y_prob = grid.predict_proba(X_test)"
   ]
  },
  {
   "cell_type": "code",
   "execution_count": 17,
   "metadata": {},
   "outputs": [
    {
     "data": {
      "text/plain": [
       "XGBClassifier(base_score=0.5, booster='gbtree', colsample_bylevel=1,\n",
       "              colsample_bynode=1, colsample_bytree=1, eta=0.2, gamma=0,\n",
       "              gpu_id=-1, importance_type='gain', interaction_constraints='',\n",
       "              learning_rate=0.200000003, max_delta_step=0, max_depth=10,\n",
       "              min_child_weight=1, missing=nan, monotone_constraints='()',\n",
       "              n_estimators=85, n_jobs=0, num_parallel_tree=1,\n",
       "              objective='multi:softprob', random_state=0, reg_alpha=0,\n",
       "              reg_lambda=1, scale_pos_weight=None, subsample=1,\n",
       "              tree_method='exact', validate_parameters=1, verbosity=None)"
      ]
     },
     "execution_count": 17,
     "metadata": {},
     "output_type": "execute_result"
    }
   ],
   "source": [
    "grid.best_estimator_"
   ]
  },
  {
   "cell_type": "code",
   "execution_count": 18,
   "metadata": {},
   "outputs": [
    {
     "name": "stdout",
     "output_type": "stream",
     "text": [
      "Accuracy: 0.6568758344459279\n",
      "Recall: 0.6568758344459279\n",
      "Precision: 0.6568758344459279\n",
      "F1: 0.6568758344459279\n",
      "Confusion matrix:\n",
      " [[865  61   3  19   0]\n",
      " [266 114   6   3   1]\n",
      " [ 76   5   3   2   0]\n",
      " [ 67   1   1   2   0]\n",
      " [  3   0   0   0   0]]\n",
      "              precision    recall  f1-score   support\n",
      "\n",
      "           0       0.68      0.91      0.78       948\n",
      "           1       0.63      0.29      0.40       390\n",
      "           2       0.23      0.03      0.06        86\n",
      "           3       0.08      0.03      0.04        71\n",
      "           4       0.00      0.00      0.00         3\n",
      "\n",
      "    accuracy                           0.66      1498\n",
      "   macro avg       0.32      0.25      0.26      1498\n",
      "weighted avg       0.61      0.66      0.60      1498\n",
      "\n"
     ]
    }
   ],
   "source": [
    "print(\"Accuracy:\",accuracy_score(y_test, y_pred))\n",
    "print(\"Recall:\", recall_score(y_test, y_pred, average='micro'))\n",
    "print(\"Precision:\", precision_score(y_test, y_pred, average='micro'))\n",
    "print(\"F1:\", f1_score(y_test, y_pred, average='micro'))\n",
    "print(\"Confusion matrix:\\n\", confusion_matrix(y_test, y_pred))\n",
    "print(classification_report(y_test, y_pred))"
   ]
  },
  {
   "cell_type": "code",
   "execution_count": 19,
   "metadata": {},
   "outputs": [],
   "source": [
    "from sklearn.svm import SVC"
   ]
  },
  {
   "cell_type": "code",
   "execution_count": 20,
   "metadata": {},
   "outputs": [
    {
     "name": "stdout",
     "output_type": "stream",
     "text": [
      "Fitting 3 folds for each of 10 candidates, totalling 30 fits\n"
     ]
    },
    {
     "name": "stderr",
     "output_type": "stream",
     "text": [
      "[Parallel(n_jobs=-1)]: Using backend LokyBackend with 4 concurrent workers.\n",
      "[Parallel(n_jobs=-1)]: Done  30 out of  30 | elapsed:  4.2min finished\n"
     ]
    }
   ],
   "source": [
    "svcclassifier = SVC(probability=True)\n",
    "param_grid = {\n",
    "    'kernel': ['linear', 'poly', 'rbf', 'sigmoid'],\n",
    "    'degree': [2, 3, 4, 5, 6, 7]\n",
    "}\n",
    "\n",
    "rand_svc = RandomizedSearchCV(estimator=svcclassifier,\n",
    "                              param_distributions=param_grid,\n",
    "                              n_jobs=-1,\n",
    "                              cv=3,\n",
    "                              verbose=3,\n",
    "                              scoring=f1)\n",
    "\n",
    "rand_svc.fit(X_train, y_train)\n",
    "\n",
    "y_pred = rand_svc.predict(X_test)\n",
    "y_proba = rand_svc.predict_proba(X_test)"
   ]
  },
  {
   "cell_type": "code",
   "execution_count": 21,
   "metadata": {},
   "outputs": [
    {
     "name": "stdout",
     "output_type": "stream",
     "text": [
      "Accuracy: 0.6662216288384513\n",
      "Recall: 0.6662216288384513\n",
      "Precision: 0.5995251776823977\n",
      "F1: 0.6004242643942214\n",
      "ROC AUC: 0.5610943699509693\n",
      "Confusion matrix:\n",
      " [[885  55   1   7   0]\n",
      " [276 112   1   1   0]\n",
      " [ 79   6   0   1   0]\n",
      " [ 68   1   1   1   0]\n",
      " [  3   0   0   0   0]]\n",
      "              precision    recall  f1-score   support\n",
      "\n",
      "           0       0.68      0.93      0.78       948\n",
      "           1       0.64      0.29      0.40       390\n",
      "           2       0.00      0.00      0.00        86\n",
      "           3       0.10      0.01      0.02        71\n",
      "           4       0.00      0.00      0.00         3\n",
      "\n",
      "    accuracy                           0.67      1498\n",
      "   macro avg       0.28      0.25      0.24      1498\n",
      "weighted avg       0.60      0.67      0.60      1498\n",
      "\n"
     ]
    },
    {
     "name": "stderr",
     "output_type": "stream",
     "text": [
      "C:\\Users\\Home-PC\\anaconda3\\lib\\site-packages\\sklearn\\metrics\\_classification.py:1221: UndefinedMetricWarning: Precision is ill-defined and being set to 0.0 in labels with no predicted samples. Use `zero_division` parameter to control this behavior.\n",
      "  _warn_prf(average, modifier, msg_start, len(result))\n",
      "C:\\Users\\Home-PC\\anaconda3\\lib\\site-packages\\sklearn\\metrics\\_classification.py:1221: UndefinedMetricWarning: Precision and F-score are ill-defined and being set to 0.0 in labels with no predicted samples. Use `zero_division` parameter to control this behavior.\n",
      "  _warn_prf(average, modifier, msg_start, len(result))\n"
     ]
    }
   ],
   "source": [
    "\n",
    "print(\"Accuracy:\", accuracy_score(y_test, y_pred))\n",
    "print(\"Recall:\", recall_score(y_test, y_pred, average = 'weighted'))\n",
    "print(\"Precision:\", precision_score(y_test, y_pred, average = 'weighted'))\n",
    "print(\"F1:\", f1_score(y_test, y_pred, average='weighted'))\n",
    "print(\"ROC AUC:\", roc_auc_score(y_test, y_prob, average = 'weighted', multi_class='ovo'))\n",
    "print(\"Confusion matrix:\\n\", confusion_matrix(y_test, y_pred))\n",
    "print(classification_report(y_test, y_pred))"
   ]
  },
  {
   "cell_type": "code",
   "execution_count": null,
   "metadata": {},
   "outputs": [],
   "source": []
  }
 ],
 "metadata": {
  "kernelspec": {
   "display_name": "Python 3",
   "language": "python",
   "name": "python3"
  },
  "language_info": {
   "codemirror_mode": {
    "name": "ipython",
    "version": 3
   },
   "file_extension": ".py",
   "mimetype": "text/x-python",
   "name": "python",
   "nbconvert_exporter": "python",
   "pygments_lexer": "ipython3",
   "version": "3.8.3"
  }
 },
 "nbformat": 4,
 "nbformat_minor": 4
}
